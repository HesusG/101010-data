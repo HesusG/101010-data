{
 "cells": [
  {
   "cell_type": "markdown",
   "metadata": {},
   "source": [
    "# 📓 101010 \n",
    "\n",
    "### ¿Qué es un Notebook? 📝\n",
    "- Entorno interactivo.\n",
    "- Combina código, texto y visualizaciones.\n",
    "- Usado en análisis de datos y ciencia de datos.\n",
    "- Como un cuaderno de laboratorio digital.\n",
    "\n",
    "### ¿Por qué los analistas usan Notebooks? 📊\n",
    "- **Interactividad**: Ejecuta código y ve resultados al instante.\n",
    "- **Documentación**: Combina código con explicaciones y gráficos.\n",
    "- **Colaboración**: Facilita compartir y colaborar.\n",
    "\n",
    "### Relación con Python 🐍\n",
    "- Popular entre analistas de datos.\n",
    "- Usa bibliotecas como **pandas**, **numpy**, **matplotlib**, y **plotly**.\n",
    "- Como un cuaderno de laboratorio digital.\n"
   ]
  },
  {
   "cell_type": "markdown",
   "metadata": {},
   "source": [
    "### Escribir Codigo\n",
    "Escribir código para análisis de datos se enfoca en manipular y visualizar datos para obtener insights, utilizando bibliotecas como pandas y matplotlib. \n"
   ]
  },
  {
   "cell_type": "code",
   "execution_count": 14,
   "metadata": {},
   "outputs": [
    {
     "data": {
      "text/plain": [
       "14"
      ]
     },
     "execution_count": 14,
     "metadata": {},
     "output_type": "execute_result"
    }
   ],
   "source": [
    "2 * 7"
   ]
  },
  {
   "cell_type": "markdown",
   "metadata": {},
   "source": [
    "![Python Logo](img/data.png)\n"
   ]
  },
  {
   "cell_type": "markdown",
   "metadata": {},
   "source": [
    "![Python Logo](img/python.png)\n"
   ]
  },
  {
   "cell_type": "code",
   "execution_count": 15,
   "metadata": {},
   "outputs": [
    {
     "ename": "NameError",
     "evalue": "name 'data' is not defined",
     "output_type": "error",
     "traceback": [
      "\u001b[1;31m---------------------------------------------------------------------------\u001b[0m",
      "\u001b[1;31mNameError\u001b[0m                                 Traceback (most recent call last)",
      "Cell \u001b[1;32mIn[15], line 4\u001b[0m\n\u001b[0;32m      1\u001b[0m \u001b[38;5;28;01mimport\u001b[39;00m \u001b[38;5;21;01mplotly\u001b[39;00m\u001b[38;5;21;01m.\u001b[39;00m\u001b[38;5;21;01mexpress\u001b[39;00m \u001b[38;5;28;01mas\u001b[39;00m \u001b[38;5;21;01mpx\u001b[39;00m\n\u001b[0;32m      3\u001b[0m \u001b[38;5;66;03m# Crear un DataFrame a partir del diccionario de datos\u001b[39;00m\n\u001b[1;32m----> 4\u001b[0m data_df \u001b[38;5;241m=\u001b[39m pd\u001b[38;5;241m.\u001b[39mDataFrame(\u001b[43mdata\u001b[49m)\n\u001b[0;32m      6\u001b[0m \u001b[38;5;66;03m# Crear un mapa de coropletas\u001b[39;00m\n\u001b[0;32m      7\u001b[0m fig_map \u001b[38;5;241m=\u001b[39m px\u001b[38;5;241m.\u001b[39mchoropleth(data_df,\n\u001b[0;32m      8\u001b[0m                         locations\u001b[38;5;241m=\u001b[39m\u001b[38;5;124m\"\u001b[39m\u001b[38;5;124mcountry\u001b[39m\u001b[38;5;124m\"\u001b[39m,\n\u001b[0;32m      9\u001b[0m                         locationmode\u001b[38;5;241m=\u001b[39m\u001b[38;5;124m\"\u001b[39m\u001b[38;5;124mcountry names\u001b[39m\u001b[38;5;124m\"\u001b[39m,\n\u001b[1;32m   (...)\u001b[0m\n\u001b[0;32m     12\u001b[0m                         title\u001b[38;5;241m=\u001b[39m\u001b[38;5;124m\"\u001b[39m\u001b[38;5;124mMapa de valores por país\u001b[39m\u001b[38;5;124m\"\u001b[39m,\n\u001b[0;32m     13\u001b[0m                         projection\u001b[38;5;241m=\u001b[39m\u001b[38;5;124m\"\u001b[39m\u001b[38;5;124mnatural earth\u001b[39m\u001b[38;5;124m\"\u001b[39m)\n",
      "\u001b[1;31mNameError\u001b[0m: name 'data' is not defined"
     ]
    }
   ],
   "source": [
    "import plotly.express as px\n",
    "\n",
    "# Crear un DataFrame a partir del diccionario de datos\n",
    "data_df = pd.DataFrame(data)\n",
    "\n",
    "# Crear un mapa de coropletas\n",
    "fig_map = px.choropleth(data_df,\n",
    "                        locations=\"country\",\n",
    "                        locationmode=\"country names\",\n",
    "                        color=\"value\",\n",
    "                        hover_name=\"country\",\n",
    "                        title=\"Mapa de valores por país\",\n",
    "                        projection=\"natural earth\")\n",
    "\n",
    "# Mostrar el mapa\n",
    "fig_map.show()\n",
    "\n",
    "# Crear una gráfica de barras\n",
    "fig_bar = px.bar(data_df, x='country', y='value', title=\"Valores por país\")\n",
    "\n",
    "# Mostrar la gráfica de barras\n",
    "fig_bar.show()"
   ]
  },
  {
   "cell_type": "markdown",
   "metadata": {},
   "source": [
    "# Paqueterias"
   ]
  },
  {
   "cell_type": "markdown",
   "metadata": {},
   "source": [
    "\n",
    "Una paquetería en Python es como una aplicación que instalas en tu teléfono. Así como necesitas aplicaciones para realizar diferentes tareas (como enviar mensajes o editar fotos).\n",
    "\n",
    "Python necesita paqueterías para realizar tareas específicas, como analizar datos o crear gráficos. Estas paqueterías contienen código preescrito que facilita y acelera el desarrollo de proyectos.\n"
   ]
  },
  {
   "cell_type": "code",
   "execution_count": 17,
   "metadata": {},
   "outputs": [],
   "source": [
    "import pandas as pd \n",
    "import plotly.express as px\n",
    "import plotly.io as pio\n",
    "import os\n"
   ]
  },
  {
   "cell_type": "code",
   "execution_count": 18,
   "metadata": {},
   "outputs": [],
   "source": [
    "pd.set_option('display.max_colwidth', 80)"
   ]
  },
  {
   "cell_type": "code",
   "execution_count": 19,
   "metadata": {},
   "outputs": [
    {
     "name": "stdout",
     "output_type": "stream",
     "text": [
      "Archivo cargado exitosamente.\n"
     ]
    },
    {
     "data": {
      "application/vnd.microsoft.datawrangler.viewer.v0+json": {
       "columns": [
        {
         "name": "index",
         "rawType": "int64",
         "type": "integer"
        },
        {
         "name": "title",
         "rawType": "object",
         "type": "string"
        },
        {
         "name": "rank",
         "rawType": "int64",
         "type": "integer"
        },
        {
         "name": "date",
         "rawType": "object",
         "type": "string"
        },
        {
         "name": "artist",
         "rawType": "object",
         "type": "string"
        },
        {
         "name": "url",
         "rawType": "object",
         "type": "string"
        },
        {
         "name": "region",
         "rawType": "object",
         "type": "string"
        },
        {
         "name": "chart",
         "rawType": "object",
         "type": "string"
        },
        {
         "name": "trend",
         "rawType": "object",
         "type": "string"
        },
        {
         "name": "streams",
         "rawType": "float64",
         "type": "float"
        },
        {
         "name": "year",
         "rawType": "int64",
         "type": "integer"
        }
       ],
       "conversionMethod": "pd.DataFrame",
       "ref": "b30f4635-2318-415b-b583-f120e8713e9a",
       "rows": [
        [
         "0",
         "Purple Rain",
         "1",
         "2017-02-17",
         "Prince",
         "https://open.spotify.com/track/54X78diSLoUDI3joC2bjMz",
         "Argentina",
         "viral50",
         "SAME_POSITION",
         null,
         "2017"
        ],
        [
         "1",
         "City Of Stars - From \"La La Land\" Soundtrack",
         "1",
         "2017-01-28",
         "Ryan Gosling, Emma Stone",
         "https://open.spotify.com/track/0LtVx5vsq9nfpGsWgjUin6",
         "Mexico",
         "viral50",
         "SAME_POSITION",
         null,
         "2017"
        ],
        [
         "2",
         "Sleep Talking",
         "1",
         "2017-10-24",
         "Charlotte Lawrence",
         "https://open.spotify.com/track/0bOH2yZkaVSg2OdegIlp2J",
         "Brazil",
         "viral50",
         "SAME_POSITION",
         null,
         "2017"
        ],
        [
         "3",
         "Despacito (Featuring Daddy Yankee)",
         "1",
         "2017-01-30",
         "Luis Fonsi",
         "https://open.spotify.com/track/4aWmUDTfIPGksMNLV2rQP2",
         "Uruguay",
         "top200",
         "SAME_POSITION",
         "33967.0",
         "2017"
        ],
        [
         "4",
         "Despacito - Remix",
         "1",
         "2017-04-21",
         "Luis Fonsi, Daddy Yankee, Justin Bieber",
         "https://open.spotify.com/track/5CtI0qwDJkDQGwXD1H1cLb",
         "Peru",
         "top200",
         "SAME_POSITION",
         "98818.0",
         "2017"
        ]
       ],
       "shape": {
        "columns": 10,
        "rows": 5
       }
      },
      "text/html": [
       "<div>\n",
       "<style scoped>\n",
       "    .dataframe tbody tr th:only-of-type {\n",
       "        vertical-align: middle;\n",
       "    }\n",
       "\n",
       "    .dataframe tbody tr th {\n",
       "        vertical-align: top;\n",
       "    }\n",
       "\n",
       "    .dataframe thead th {\n",
       "        text-align: right;\n",
       "    }\n",
       "</style>\n",
       "<table border=\"1\" class=\"dataframe\">\n",
       "  <thead>\n",
       "    <tr style=\"text-align: right;\">\n",
       "      <th></th>\n",
       "      <th>title</th>\n",
       "      <th>rank</th>\n",
       "      <th>date</th>\n",
       "      <th>artist</th>\n",
       "      <th>url</th>\n",
       "      <th>region</th>\n",
       "      <th>chart</th>\n",
       "      <th>trend</th>\n",
       "      <th>streams</th>\n",
       "      <th>year</th>\n",
       "    </tr>\n",
       "  </thead>\n",
       "  <tbody>\n",
       "    <tr>\n",
       "      <th>0</th>\n",
       "      <td>Purple Rain</td>\n",
       "      <td>1</td>\n",
       "      <td>2017-02-17</td>\n",
       "      <td>Prince</td>\n",
       "      <td>https://open.spotify.com/track/54X78diSLoUDI3joC2bjMz</td>\n",
       "      <td>Argentina</td>\n",
       "      <td>viral50</td>\n",
       "      <td>SAME_POSITION</td>\n",
       "      <td>NaN</td>\n",
       "      <td>2017</td>\n",
       "    </tr>\n",
       "    <tr>\n",
       "      <th>1</th>\n",
       "      <td>City Of Stars - From \"La La Land\" Soundtrack</td>\n",
       "      <td>1</td>\n",
       "      <td>2017-01-28</td>\n",
       "      <td>Ryan Gosling, Emma Stone</td>\n",
       "      <td>https://open.spotify.com/track/0LtVx5vsq9nfpGsWgjUin6</td>\n",
       "      <td>Mexico</td>\n",
       "      <td>viral50</td>\n",
       "      <td>SAME_POSITION</td>\n",
       "      <td>NaN</td>\n",
       "      <td>2017</td>\n",
       "    </tr>\n",
       "    <tr>\n",
       "      <th>2</th>\n",
       "      <td>Sleep Talking</td>\n",
       "      <td>1</td>\n",
       "      <td>2017-10-24</td>\n",
       "      <td>Charlotte Lawrence</td>\n",
       "      <td>https://open.spotify.com/track/0bOH2yZkaVSg2OdegIlp2J</td>\n",
       "      <td>Brazil</td>\n",
       "      <td>viral50</td>\n",
       "      <td>SAME_POSITION</td>\n",
       "      <td>NaN</td>\n",
       "      <td>2017</td>\n",
       "    </tr>\n",
       "    <tr>\n",
       "      <th>3</th>\n",
       "      <td>Despacito (Featuring Daddy Yankee)</td>\n",
       "      <td>1</td>\n",
       "      <td>2017-01-30</td>\n",
       "      <td>Luis Fonsi</td>\n",
       "      <td>https://open.spotify.com/track/4aWmUDTfIPGksMNLV2rQP2</td>\n",
       "      <td>Uruguay</td>\n",
       "      <td>top200</td>\n",
       "      <td>SAME_POSITION</td>\n",
       "      <td>33967.0</td>\n",
       "      <td>2017</td>\n",
       "    </tr>\n",
       "    <tr>\n",
       "      <th>4</th>\n",
       "      <td>Despacito - Remix</td>\n",
       "      <td>1</td>\n",
       "      <td>2017-04-21</td>\n",
       "      <td>Luis Fonsi, Daddy Yankee, Justin Bieber</td>\n",
       "      <td>https://open.spotify.com/track/5CtI0qwDJkDQGwXD1H1cLb</td>\n",
       "      <td>Peru</td>\n",
       "      <td>top200</td>\n",
       "      <td>SAME_POSITION</td>\n",
       "      <td>98818.0</td>\n",
       "      <td>2017</td>\n",
       "    </tr>\n",
       "  </tbody>\n",
       "</table>\n",
       "</div>"
      ],
      "text/plain": [
       "                                          title  rank        date  \\\n",
       "0                                   Purple Rain     1  2017-02-17   \n",
       "1  City Of Stars - From \"La La Land\" Soundtrack     1  2017-01-28   \n",
       "2                                 Sleep Talking     1  2017-10-24   \n",
       "3            Despacito (Featuring Daddy Yankee)     1  2017-01-30   \n",
       "4                             Despacito - Remix     1  2017-04-21   \n",
       "\n",
       "                                    artist  \\\n",
       "0                                   Prince   \n",
       "1                 Ryan Gosling, Emma Stone   \n",
       "2                       Charlotte Lawrence   \n",
       "3                               Luis Fonsi   \n",
       "4  Luis Fonsi, Daddy Yankee, Justin Bieber   \n",
       "\n",
       "                                                     url     region    chart  \\\n",
       "0  https://open.spotify.com/track/54X78diSLoUDI3joC2bjMz  Argentina  viral50   \n",
       "1  https://open.spotify.com/track/0LtVx5vsq9nfpGsWgjUin6     Mexico  viral50   \n",
       "2  https://open.spotify.com/track/0bOH2yZkaVSg2OdegIlp2J     Brazil  viral50   \n",
       "3  https://open.spotify.com/track/4aWmUDTfIPGksMNLV2rQP2    Uruguay   top200   \n",
       "4  https://open.spotify.com/track/5CtI0qwDJkDQGwXD1H1cLb       Peru   top200   \n",
       "\n",
       "           trend  streams  year  \n",
       "0  SAME_POSITION      NaN  2017  \n",
       "1  SAME_POSITION      NaN  2017  \n",
       "2  SAME_POSITION      NaN  2017  \n",
       "3  SAME_POSITION  33967.0  2017  \n",
       "4  SAME_POSITION  98818.0  2017  "
      ]
     },
     "metadata": {},
     "output_type": "display_data"
    }
   ],
   "source": [
    "# Obtener el directorio de trabajo actual\n",
    "base_dir = os.getcwd()\n",
    "\n",
    "# Especificar el nombre del archivo y construir la ruta del archivo\n",
    "file_name = 'spotify_25.csv'\n",
    "file_path = os.path.join(base_dir, 'datasets', file_name)\n",
    "\n",
    "# Verificar si el archivo existe y cargarlo\n",
    "if os.path.exists(file_path):\n",
    "    spotify_df = pd.read_csv(file_path)\n",
    "    print(\"Archivo cargado exitosamente.\")\n",
    "    display(spotify_df.head())  # Mostrar las primeras filas del DataFrame\n",
    "else:\n",
    "    print(f\"Archivo no encontrado: {file_path}\")\n"
   ]
  },
  {
   "cell_type": "markdown",
   "metadata": {},
   "source": [
    "### ¿Qué es un DataFrame?\n",
    "\n",
    "Un **dataframe** es una estructura de datos muy común en análisis de datos y programación, especialmente en lenguajes como Python y R. Se puede imaginar como una **hoja de cálculo** de Excel o una **tabla** en una base de datos, donde:\n",
    "\n",
    "- **Cada fila** representa un registro o entrada (por ejemplo, la información de un estudiante).\n",
    "- **Cada columna** representa una característica o variable (por ejemplo, nombre, edad, calificaciones).\n"
   ]
  },
  {
   "cell_type": "code",
   "execution_count": 20,
   "metadata": {},
   "outputs": [
    {
     "data": {
      "application/vnd.microsoft.datawrangler.viewer.v0+json": {
       "columns": [
        {
         "name": "index",
         "rawType": "object",
         "type": "string"
        },
        {
         "name": "rank",
         "rawType": "float64",
         "type": "float"
        },
        {
         "name": "streams",
         "rawType": "float64",
         "type": "float"
        },
        {
         "name": "year",
         "rawType": "float64",
         "type": "float"
        }
       ],
       "conversionMethod": "pd.DataFrame",
       "ref": "1097b48f-2bdd-4d48-8929-bf1e2c5e0a33",
       "rows": [
        [
         "count",
         "136453.0",
         "122225.0",
         "136453.0"
        ],
        [
         "mean",
         "86.52146893069408",
         "91833.43325015341",
         "2018.8605893604392"
        ],
        [
         "std",
         "60.43282920527204",
         "351413.20668869297",
         "1.457050297403797"
        ],
        [
         "min",
         "1.0",
         "1001.0",
         "2017.0"
        ],
        [
         "25%",
         "32.0",
         "4013.0",
         "2017.0"
        ],
        [
         "50%",
         "80.0",
         "10206.0",
         "2019.0"
        ],
        [
         "75%",
         "139.0",
         "39595.0",
         "2020.0"
        ],
        [
         "max",
         "200.0",
         "17223237.0",
         "2021.0"
        ]
       ],
       "shape": {
        "columns": 3,
        "rows": 8
       }
      },
      "text/html": [
       "<div>\n",
       "<style scoped>\n",
       "    .dataframe tbody tr th:only-of-type {\n",
       "        vertical-align: middle;\n",
       "    }\n",
       "\n",
       "    .dataframe tbody tr th {\n",
       "        vertical-align: top;\n",
       "    }\n",
       "\n",
       "    .dataframe thead th {\n",
       "        text-align: right;\n",
       "    }\n",
       "</style>\n",
       "<table border=\"1\" class=\"dataframe\">\n",
       "  <thead>\n",
       "    <tr style=\"text-align: right;\">\n",
       "      <th></th>\n",
       "      <th>rank</th>\n",
       "      <th>streams</th>\n",
       "      <th>year</th>\n",
       "    </tr>\n",
       "  </thead>\n",
       "  <tbody>\n",
       "    <tr>\n",
       "      <th>count</th>\n",
       "      <td>136453.000000</td>\n",
       "      <td>1.222250e+05</td>\n",
       "      <td>136453.000000</td>\n",
       "    </tr>\n",
       "    <tr>\n",
       "      <th>mean</th>\n",
       "      <td>86.521469</td>\n",
       "      <td>9.183343e+04</td>\n",
       "      <td>2018.860589</td>\n",
       "    </tr>\n",
       "    <tr>\n",
       "      <th>std</th>\n",
       "      <td>60.432829</td>\n",
       "      <td>3.514132e+05</td>\n",
       "      <td>1.457050</td>\n",
       "    </tr>\n",
       "    <tr>\n",
       "      <th>min</th>\n",
       "      <td>1.000000</td>\n",
       "      <td>1.001000e+03</td>\n",
       "      <td>2017.000000</td>\n",
       "    </tr>\n",
       "    <tr>\n",
       "      <th>25%</th>\n",
       "      <td>32.000000</td>\n",
       "      <td>4.013000e+03</td>\n",
       "      <td>2017.000000</td>\n",
       "    </tr>\n",
       "    <tr>\n",
       "      <th>50%</th>\n",
       "      <td>80.000000</td>\n",
       "      <td>1.020600e+04</td>\n",
       "      <td>2019.000000</td>\n",
       "    </tr>\n",
       "    <tr>\n",
       "      <th>75%</th>\n",
       "      <td>139.000000</td>\n",
       "      <td>3.959500e+04</td>\n",
       "      <td>2020.000000</td>\n",
       "    </tr>\n",
       "    <tr>\n",
       "      <th>max</th>\n",
       "      <td>200.000000</td>\n",
       "      <td>1.722324e+07</td>\n",
       "      <td>2021.000000</td>\n",
       "    </tr>\n",
       "  </tbody>\n",
       "</table>\n",
       "</div>"
      ],
      "text/plain": [
       "                rank       streams           year\n",
       "count  136453.000000  1.222250e+05  136453.000000\n",
       "mean       86.521469  9.183343e+04    2018.860589\n",
       "std        60.432829  3.514132e+05       1.457050\n",
       "min         1.000000  1.001000e+03    2017.000000\n",
       "25%        32.000000  4.013000e+03    2017.000000\n",
       "50%        80.000000  1.020600e+04    2019.000000\n",
       "75%       139.000000  3.959500e+04    2020.000000\n",
       "max       200.000000  1.722324e+07    2021.000000"
      ]
     },
     "execution_count": 20,
     "metadata": {},
     "output_type": "execute_result"
    }
   ],
   "source": [
    "\n",
    "spotify_df.describe()"
   ]
  },
  {
   "cell_type": "markdown",
   "metadata": {},
   "source": [
    "La función `describe()` se usa en un **dataframe** para obtener un resumen **estadístico** rápido de los datos.\n",
    "\n",
    "**¿Qué hace?**\n",
    "- **Cuenta** los registros.\n",
    "- Muestra el **valor medio** (mean), el **desvío estándar** (std) y otros **percentiles** como el 25%, 50% y 75%.\n",
    "- Proporciona **mínimo** y **máximo** de los valores.\n"
   ]
  },
  {
   "cell_type": "code",
   "execution_count": 21,
   "metadata": {},
   "outputs": [
    {
     "data": {
      "application/vnd.microsoft.datawrangler.viewer.v0+json": {
       "columns": [
        {
         "name": "index",
         "rawType": "int64",
         "type": "integer"
        },
        {
         "name": "title",
         "rawType": "object",
         "type": "string"
        },
        {
         "name": "rank",
         "rawType": "int64",
         "type": "integer"
        },
        {
         "name": "date",
         "rawType": "object",
         "type": "string"
        },
        {
         "name": "artist",
         "rawType": "object",
         "type": "string"
        },
        {
         "name": "url",
         "rawType": "object",
         "type": "string"
        },
        {
         "name": "region",
         "rawType": "object",
         "type": "string"
        },
        {
         "name": "chart",
         "rawType": "object",
         "type": "string"
        },
        {
         "name": "trend",
         "rawType": "object",
         "type": "string"
        },
        {
         "name": "streams",
         "rawType": "float64",
         "type": "float"
        },
        {
         "name": "year",
         "rawType": "int64",
         "type": "integer"
        }
       ],
       "conversionMethod": "pd.DataFrame",
       "ref": "de4b2104-5040-44e6-b54c-b01e7057837b",
       "rows": [
        [
         "0",
         "Purple Rain",
         "1",
         "2017-02-17",
         "Prince",
         "https://open.spotify.com/track/54X78diSLoUDI3joC2bjMz",
         "Argentina",
         "viral50",
         "SAME_POSITION",
         null,
         "2017"
        ],
        [
         "1",
         "City Of Stars - From \"La La Land\" Soundtrack",
         "1",
         "2017-01-28",
         "Ryan Gosling, Emma Stone",
         "https://open.spotify.com/track/0LtVx5vsq9nfpGsWgjUin6",
         "Mexico",
         "viral50",
         "SAME_POSITION",
         null,
         "2017"
        ],
        [
         "2",
         "Sleep Talking",
         "1",
         "2017-10-24",
         "Charlotte Lawrence",
         "https://open.spotify.com/track/0bOH2yZkaVSg2OdegIlp2J",
         "Brazil",
         "viral50",
         "SAME_POSITION",
         null,
         "2017"
        ],
        [
         "3",
         "Despacito (Featuring Daddy Yankee)",
         "1",
         "2017-01-30",
         "Luis Fonsi",
         "https://open.spotify.com/track/4aWmUDTfIPGksMNLV2rQP2",
         "Uruguay",
         "top200",
         "SAME_POSITION",
         "33967.0",
         "2017"
        ],
        [
         "4",
         "Despacito - Remix",
         "1",
         "2017-04-21",
         "Luis Fonsi, Daddy Yankee, Justin Bieber",
         "https://open.spotify.com/track/5CtI0qwDJkDQGwXD1H1cLb",
         "Peru",
         "top200",
         "SAME_POSITION",
         "98818.0",
         "2017"
        ],
        [
         "5",
         "Andromeda (feat. DRAM)",
         "1",
         "2017-03-30",
         "Gorillaz",
         "https://open.spotify.com/track/0V5zAGdvO780GT3gtdxzLt",
         "Argentina",
         "viral50",
         "SAME_POSITION",
         null,
         "2017"
        ],
        [
         "6",
         "Reggaetón Lento (Bailemos)",
         "1",
         "2017-01-04",
         "CNCO",
         "https://open.spotify.com/track/3AEZUABDXNtecAOSC1qTfo",
         "Peru",
         "top200",
         "SAME_POSITION",
         "39915.0",
         "2017"
        ],
        [
         "7",
         "Despacito (Featuring Daddy Yankee)",
         "1",
         "2017-05-28",
         "Luis Fonsi",
         "https://open.spotify.com/track/4aWmUDTfIPGksMNLV2rQP2",
         "Colombia",
         "top200",
         "SAME_POSITION",
         "67854.0",
         "2017"
        ],
        [
         "8",
         "Despacito (Featuring Daddy Yankee)",
         "1",
         "2017-03-23",
         "Luis Fonsi",
         "https://open.spotify.com/track/4aWmUDTfIPGksMNLV2rQP2",
         "Argentina",
         "top200",
         "SAME_POSITION",
         "298328.0",
         "2017"
        ],
        [
         "9",
         "Mi Gente",
         "1",
         "2017-07-03",
         "J Balvin, Willy William",
         "https://open.spotify.com/track/2rb5MvYT7ZIxbKW5hfcHx8",
         "Colombia",
         "top200",
         "SAME_POSITION",
         "70542.0",
         "2017"
        ],
        [
         "10",
         "Criminal",
         "1",
         "2017-12-06",
         "Natti Natasha, Ozuna",
         "https://open.spotify.com/track/6Za3190Sbw39BBC77WSS1C",
         "Mexico",
         "top200",
         "SAME_POSITION",
         "373817.0",
         "2017"
        ],
        [
         "11",
         "Corpo Sensual (feat. Mateus Carrilho)",
         "1",
         "2017-10-22",
         "Pabllo Vittar",
         "https://open.spotify.com/track/4kkQGhScJDzNIIGavQE9SN",
         "Brazil",
         "top200",
         "SAME_POSITION",
         "267200.0",
         "2017"
        ],
        [
         "12",
         "Wall of Glass",
         "1",
         "2017-06-06",
         "Liam Gallagher",
         "https://open.spotify.com/track/3eqhMltljpvMkVNUbAHyQI",
         "Colombia",
         "viral50",
         "SAME_POSITION",
         null,
         "2017"
        ],
        [
         "13",
         "Bum Bum Tam Tam",
         "1",
         "2017-12-24",
         "MC Fioti, Future, J Balvin, Stefflon Don, Juan Magán",
         "https://open.spotify.com/track/4zWO4gvuFtw6EJZC5FFGlr",
         "Mexico",
         "viral50",
         "SAME_POSITION",
         null,
         "2017"
        ],
        [
         "14",
         "Una Lady Como Tú",
         "1",
         "2017-07-11",
         "Manuel Turizo",
         "https://open.spotify.com/track/7MHN1aCFtLXjownGhvEQlF",
         "Mexico",
         "top200",
         "SAME_POSITION",
         "506240.0",
         "2017"
        ],
        [
         "15",
         "Déjala Que Vuelva (feat. Manuel Turizo)",
         "1",
         "2017-11-25",
         "Piso 21",
         "https://open.spotify.com/track/33bnxcjePIkcmNjEFTJX0l",
         "Colombia",
         "top200",
         "SAME_POSITION",
         "66806.0",
         "2017"
        ],
        [
         "16",
         "Despacito (Featuring Daddy Yankee)",
         "1",
         "2017-02-14",
         "Luis Fonsi",
         "https://open.spotify.com/track/4aWmUDTfIPGksMNLV2rQP2",
         "Uruguay",
         "top200",
         "SAME_POSITION",
         "28340.0",
         "2017"
        ],
        [
         "17",
         "Despacito (Featuring Daddy Yankee)",
         "1",
         "2017-03-01",
         "Luis Fonsi",
         "https://open.spotify.com/track/4aWmUDTfIPGksMNLV2rQP2",
         "Mexico",
         "top200",
         "SAME_POSITION",
         "683600.0",
         "2017"
        ],
        [
         "18",
         "Bum Bum Tam Tam",
         "1",
         "2017-12-28",
         "MC Fioti, Future, J Balvin, Stefflon Don, Juan Magán",
         "https://open.spotify.com/track/4zWO4gvuFtw6EJZC5FFGlr",
         "Chile",
         "viral50",
         "SAME_POSITION",
         null,
         "2017"
        ],
        [
         "19",
         "Despacito (Featuring Daddy Yankee)",
         "1",
         "2017-01-21",
         "Luis Fonsi",
         "https://open.spotify.com/track/4aWmUDTfIPGksMNLV2rQP2",
         "Colombia",
         "top200",
         "SAME_POSITION",
         "70429.0",
         "2017"
        ],
        [
         "20",
         "Amantes",
         "1",
         "2017-11-11",
         "Greeicy, Mike Bahía",
         "https://open.spotify.com/track/3IyPnNX142pvWx6D5CiimD",
         "Colombia",
         "viral50",
         "SAME_POSITION",
         null,
         "2017"
        ],
        [
         "21",
         "Criminal",
         "1",
         "2017-10-05",
         "Natti Natasha, Ozuna",
         "https://open.spotify.com/track/2SmgFAhQkQCQPyBiBxR6Te",
         "Uruguay",
         "top200",
         "SAME_POSITION",
         "15107.0",
         "2017"
        ],
        [
         "22",
         "Criminal",
         "1",
         "2017-10-02",
         "Natti Natasha, Ozuna",
         "https://open.spotify.com/track/2SmgFAhQkQCQPyBiBxR6Te",
         "Argentina",
         "top200",
         "SAME_POSITION",
         "220630.0",
         "2017"
        ],
        [
         "23",
         "Felices los 4",
         "1",
         "2017-05-09",
         "Maluma",
         "https://open.spotify.com/track/0qYTZCo5Bwh1nsUFGZP3zn",
         "Mexico",
         "viral50",
         "SAME_POSITION",
         null,
         "2017"
        ],
        [
         "24",
         "Robarte un Beso",
         "1",
         "2017-08-02",
         "Carlos Vives, Sebastian Yatra",
         "https://open.spotify.com/track/4z3GJkrtH97Bj6fRta983T",
         "Colombia",
         "top200",
         "SAME_POSITION",
         "74981.0",
         "2017"
        ],
        [
         "25",
         "1-800-273-8255",
         "1",
         "2017-05-13",
         "Logic, Alessia Cara, Khalid",
         "https://open.spotify.com/track/5tz69p7tJuGPeMGwNTxYuV",
         "United States",
         "viral50",
         "SAME_POSITION",
         null,
         "2017"
        ],
        [
         "26",
         "Bad and Boujee (feat. Lil Uzi Vert)",
         "1",
         "2017-01-13",
         "Migos",
         "https://open.spotify.com/track/4Km5HrUvYTaSUfiSGPJeQR",
         "United States",
         "top200",
         "SAME_POSITION",
         "1670271.0",
         "2017"
        ],
        [
         "27",
         "rockstar",
         "1",
         "2017-09-22",
         "Post Malone, 21 Savage",
         "https://open.spotify.com/track/1OmcAT5Y8eg5bUPv9qJT4R",
         "United States",
         "top200",
         "SAME_POSITION",
         "2828711.0",
         "2017"
        ],
        [
         "28",
         "Despacito - Remix",
         "1",
         "2017-07-07",
         "Luis Fonsi, Daddy Yankee, Justin Bieber",
         "https://open.spotify.com/track/5CtI0qwDJkDQGwXD1H1cLb",
         "United States",
         "top200",
         "SAME_POSITION",
         "1532529.0",
         "2017"
        ],
        [
         "29",
         "Mask Off (feat. Kendrick Lamar) - Remix",
         "1",
         "2017-05-29",
         "Future",
         "https://open.spotify.com/track/6DB2KOEwHnjkgEnBt5SdeJ",
         "United States",
         "viral50",
         "NEW_ENTRY",
         null,
         "2017"
        ],
        [
         "30",
         "Bad and Boujee (feat. Lil Uzi Vert)",
         "1",
         "2017-02-02",
         "Migos",
         "https://open.spotify.com/track/4Km5HrUvYTaSUfiSGPJeQR",
         "United States",
         "top200",
         "SAME_POSITION",
         "1549896.0",
         "2017"
        ],
        [
         "31",
         "rockstar",
         "1",
         "2017-12-03",
         "Post Malone, 21 Savage",
         "https://open.spotify.com/track/7wGoVu4Dady5GV0Sv4UIsx",
         "United States",
         "top200",
         "SAME_POSITION",
         "1677940.0",
         "2017"
        ],
        [
         "32",
         "HUMBLE.",
         "1",
         "2017-06-08",
         "Kendrick Lamar",
         "https://open.spotify.com/track/7KXjTSCq5nL1LoYtL7XAwS",
         "United States",
         "top200",
         "SAME_POSITION",
         "1805817.0",
         "2017"
        ],
        [
         "33",
         "Look What You Made Me Do",
         "1",
         "2017-08-28",
         "Taylor Swift",
         "https://open.spotify.com/track/2VjtYe7gpfUi2OkGxR2O2z",
         "United States",
         "viral50",
         "NEW_ENTRY",
         null,
         "2017"
        ],
        [
         "34",
         "Shape of You",
         "1",
         "2017-01-26",
         "Ed Sheeran",
         "https://open.spotify.com/track/7qiZfU4dY1lWllzX7mPBI3",
         "United States",
         "top200",
         "SAME_POSITION",
         "1478465.0",
         "2017"
        ],
        [
         "35",
         "Walk On Water (feat. Beyoncé)",
         "1",
         "2017-11-14",
         "Eminem",
         "https://open.spotify.com/track/5b2QnYcT9rQIkhRWt4HztQ",
         "United States",
         "viral50",
         "SAME_POSITION",
         null,
         "2017"
        ],
        [
         "36",
         "rockstar",
         "1",
         "2017-09-19",
         "Post Malone, 21 Savage",
         "https://open.spotify.com/track/1OmcAT5Y8eg5bUPv9qJT4R",
         "United States",
         "top200",
         "SAME_POSITION",
         "2695933.0",
         "2017"
        ],
        [
         "37",
         "Wolves",
         "1",
         "2017-10-30",
         "Selena Gomez, Marshmello",
         "https://open.spotify.com/track/7EmGUiUaOSGDnUUQUDrOXC",
         "United States",
         "viral50",
         "NEW_ENTRY",
         null,
         "2017"
        ],
        [
         "38",
         "HUMBLE.",
         "1",
         "2017-05-29",
         "Kendrick Lamar",
         "https://open.spotify.com/track/7KXjTSCq5nL1LoYtL7XAwS",
         "United States",
         "top200",
         "MOVE_UP",
         "1797247.0",
         "2017"
        ],
        [
         "39",
         "Despacito - Remix",
         "1",
         "2017-06-25",
         "Luis Fonsi, Daddy Yankee, Justin Bieber",
         "https://open.spotify.com/track/5CtI0qwDJkDQGwXD1H1cLb",
         "United States",
         "top200",
         "SAME_POSITION",
         "1511374.0",
         "2017"
        ],
        [
         "40",
         "rockstar",
         "1",
         "2017-10-12",
         "Post Malone, 21 Savage",
         "https://open.spotify.com/track/7wGoVu4Dady5GV0Sv4UIsx",
         "United States",
         "top200",
         "SAME_POSITION",
         "2492069.0",
         "2017"
        ],
        [
         "41",
         "Lemon",
         "1",
         "2017-11-07",
         "N.E.R.D, Rihanna",
         "https://open.spotify.com/track/6tUgfsOa8PLkoede5nOR7D",
         "United States",
         "viral50",
         "SAME_POSITION",
         null,
         "2017"
        ],
        [
         "42",
         "1-800-273-8255",
         "1",
         "2017-09-09",
         "Logic, Alessia Cara, Khalid",
         "https://open.spotify.com/track/5tz69p7tJuGPeMGwNTxYuV",
         "United States",
         "top200",
         "SAME_POSITION",
         "1457698.0",
         "2017"
        ],
        [
         "43",
         "Despacito - Remix",
         "1",
         "2017-06-27",
         "Luis Fonsi, Daddy Yankee, Justin Bieber",
         "https://open.spotify.com/track/5CtI0qwDJkDQGwXD1H1cLb",
         "United States",
         "top200",
         "SAME_POSITION",
         "1579970.0",
         "2017"
        ],
        [
         "44",
         "rockstar",
         "1",
         "2017-10-08",
         "Post Malone, 21 Savage",
         "https://open.spotify.com/track/1OmcAT5Y8eg5bUPv9qJT4R",
         "United States",
         "top200",
         "SAME_POSITION",
         "2220902.0",
         "2017"
        ],
        [
         "45",
         "rockstar",
         "1",
         "2017-10-17",
         "Post Malone, 21 Savage",
         "https://open.spotify.com/track/7wGoVu4Dady5GV0Sv4UIsx",
         "United States",
         "top200",
         "SAME_POSITION",
         "2557718.0",
         "2017"
        ],
        [
         "46",
         "Despacito - Remix",
         "1",
         "2017-07-09",
         "Luis Fonsi, Daddy Yankee, Justin Bieber",
         "https://open.spotify.com/track/5CtI0qwDJkDQGwXD1H1cLb",
         "United States",
         "top200",
         "SAME_POSITION",
         "1381039.0",
         "2017"
        ],
        [
         "47",
         "2U (feat. Justin Bieber)",
         "1",
         "2017-06-14",
         "David Guetta",
         "https://open.spotify.com/track/3A7qX2QjDlPnazUsRk5y0M",
         "United States",
         "viral50",
         "SAME_POSITION",
         null,
         "2017"
        ],
        [
         "48",
         "Bank Account",
         "1",
         "2017-08-09",
         "21 Savage",
         "https://open.spotify.com/track/5eqK0tbzUPo2SoeZsov04s",
         "United States",
         "top200",
         "SAME_POSITION",
         "1179979.0",
         "2017"
        ],
        [
         "49",
         "It Ain't Me (with Selena Gomez)",
         "1",
         "2017-02-21",
         "Kygo",
         "https://open.spotify.com/track/3eR23VReFzcdmS7TYCrhCe",
         "United States",
         "viral50",
         "MOVE_UP",
         null,
         "2017"
        ]
       ],
       "shape": {
        "columns": 10,
        "rows": 136453
       }
      },
      "text/html": [
       "<div>\n",
       "<style scoped>\n",
       "    .dataframe tbody tr th:only-of-type {\n",
       "        vertical-align: middle;\n",
       "    }\n",
       "\n",
       "    .dataframe tbody tr th {\n",
       "        vertical-align: top;\n",
       "    }\n",
       "\n",
       "    .dataframe thead th {\n",
       "        text-align: right;\n",
       "    }\n",
       "</style>\n",
       "<table border=\"1\" class=\"dataframe\">\n",
       "  <thead>\n",
       "    <tr style=\"text-align: right;\">\n",
       "      <th></th>\n",
       "      <th>title</th>\n",
       "      <th>rank</th>\n",
       "      <th>date</th>\n",
       "      <th>artist</th>\n",
       "      <th>url</th>\n",
       "      <th>region</th>\n",
       "      <th>chart</th>\n",
       "      <th>trend</th>\n",
       "      <th>streams</th>\n",
       "      <th>year</th>\n",
       "    </tr>\n",
       "  </thead>\n",
       "  <tbody>\n",
       "    <tr>\n",
       "      <th>0</th>\n",
       "      <td>Purple Rain</td>\n",
       "      <td>1</td>\n",
       "      <td>2017-02-17</td>\n",
       "      <td>Prince</td>\n",
       "      <td>https://open.spotify.com/track/54X78diSLoUDI3joC2bjMz</td>\n",
       "      <td>Argentina</td>\n",
       "      <td>viral50</td>\n",
       "      <td>SAME_POSITION</td>\n",
       "      <td>NaN</td>\n",
       "      <td>2017</td>\n",
       "    </tr>\n",
       "    <tr>\n",
       "      <th>1</th>\n",
       "      <td>City Of Stars - From \"La La Land\" Soundtrack</td>\n",
       "      <td>1</td>\n",
       "      <td>2017-01-28</td>\n",
       "      <td>Ryan Gosling, Emma Stone</td>\n",
       "      <td>https://open.spotify.com/track/0LtVx5vsq9nfpGsWgjUin6</td>\n",
       "      <td>Mexico</td>\n",
       "      <td>viral50</td>\n",
       "      <td>SAME_POSITION</td>\n",
       "      <td>NaN</td>\n",
       "      <td>2017</td>\n",
       "    </tr>\n",
       "    <tr>\n",
       "      <th>2</th>\n",
       "      <td>Sleep Talking</td>\n",
       "      <td>1</td>\n",
       "      <td>2017-10-24</td>\n",
       "      <td>Charlotte Lawrence</td>\n",
       "      <td>https://open.spotify.com/track/0bOH2yZkaVSg2OdegIlp2J</td>\n",
       "      <td>Brazil</td>\n",
       "      <td>viral50</td>\n",
       "      <td>SAME_POSITION</td>\n",
       "      <td>NaN</td>\n",
       "      <td>2017</td>\n",
       "    </tr>\n",
       "    <tr>\n",
       "      <th>3</th>\n",
       "      <td>Despacito (Featuring Daddy Yankee)</td>\n",
       "      <td>1</td>\n",
       "      <td>2017-01-30</td>\n",
       "      <td>Luis Fonsi</td>\n",
       "      <td>https://open.spotify.com/track/4aWmUDTfIPGksMNLV2rQP2</td>\n",
       "      <td>Uruguay</td>\n",
       "      <td>top200</td>\n",
       "      <td>SAME_POSITION</td>\n",
       "      <td>33967.0</td>\n",
       "      <td>2017</td>\n",
       "    </tr>\n",
       "    <tr>\n",
       "      <th>4</th>\n",
       "      <td>Despacito - Remix</td>\n",
       "      <td>1</td>\n",
       "      <td>2017-04-21</td>\n",
       "      <td>Luis Fonsi, Daddy Yankee, Justin Bieber</td>\n",
       "      <td>https://open.spotify.com/track/5CtI0qwDJkDQGwXD1H1cLb</td>\n",
       "      <td>Peru</td>\n",
       "      <td>top200</td>\n",
       "      <td>SAME_POSITION</td>\n",
       "      <td>98818.0</td>\n",
       "      <td>2017</td>\n",
       "    </tr>\n",
       "    <tr>\n",
       "      <th>...</th>\n",
       "      <td>...</td>\n",
       "      <td>...</td>\n",
       "      <td>...</td>\n",
       "      <td>...</td>\n",
       "      <td>...</td>\n",
       "      <td>...</td>\n",
       "      <td>...</td>\n",
       "      <td>...</td>\n",
       "      <td>...</td>\n",
       "      <td>...</td>\n",
       "    </tr>\n",
       "    <tr>\n",
       "      <th>136448</th>\n",
       "      <td>10,000 Hours (with Justin Bieber)</td>\n",
       "      <td>131</td>\n",
       "      <td>2021-06-05</td>\n",
       "      <td>Dan + Shay</td>\n",
       "      <td>https://open.spotify.com/track/2wrJq5XKLnmhRXHIAf9xBa</td>\n",
       "      <td>South Korea</td>\n",
       "      <td>top200</td>\n",
       "      <td>MOVE_DOWN</td>\n",
       "      <td>1651.0</td>\n",
       "      <td>2021</td>\n",
       "    </tr>\n",
       "    <tr>\n",
       "      <th>136449</th>\n",
       "      <td>eight(Prod.&amp;Feat. SUGA of BTS)</td>\n",
       "      <td>21</td>\n",
       "      <td>2021-03-17</td>\n",
       "      <td>IU</td>\n",
       "      <td>https://open.spotify.com/track/0pYacDCZuRhcrwGUA5nTBe</td>\n",
       "      <td>South Korea</td>\n",
       "      <td>top200</td>\n",
       "      <td>MOVE_UP</td>\n",
       "      <td>3404.0</td>\n",
       "      <td>2021</td>\n",
       "    </tr>\n",
       "    <tr>\n",
       "      <th>136450</th>\n",
       "      <td>Spaceman</td>\n",
       "      <td>190</td>\n",
       "      <td>2021-03-17</td>\n",
       "      <td>Nick Jonas</td>\n",
       "      <td>https://open.spotify.com/track/1Tf0qifzTHdDC9RnTW9Di3</td>\n",
       "      <td>South Korea</td>\n",
       "      <td>top200</td>\n",
       "      <td>MOVE_DOWN</td>\n",
       "      <td>1028.0</td>\n",
       "      <td>2021</td>\n",
       "    </tr>\n",
       "    <tr>\n",
       "      <th>136451</th>\n",
       "      <td>Lovemonth</td>\n",
       "      <td>41</td>\n",
       "      <td>2021-04-13</td>\n",
       "      <td>YUKIKA</td>\n",
       "      <td>https://open.spotify.com/track/5KnAca7g0lgwzCNA64WE9d</td>\n",
       "      <td>South Korea</td>\n",
       "      <td>viral50</td>\n",
       "      <td>MOVE_DOWN</td>\n",
       "      <td>NaN</td>\n",
       "      <td>2021</td>\n",
       "    </tr>\n",
       "    <tr>\n",
       "      <th>136452</th>\n",
       "      <td>Closer</td>\n",
       "      <td>185</td>\n",
       "      <td>2021-09-02</td>\n",
       "      <td>The Chainsmokers, Halsey</td>\n",
       "      <td>https://open.spotify.com/track/7BKLCZ1jbUBVqRi2FVlTVw</td>\n",
       "      <td>South Korea</td>\n",
       "      <td>top200</td>\n",
       "      <td>MOVE_UP</td>\n",
       "      <td>1410.0</td>\n",
       "      <td>2021</td>\n",
       "    </tr>\n",
       "  </tbody>\n",
       "</table>\n",
       "<p>136453 rows × 10 columns</p>\n",
       "</div>"
      ],
      "text/plain": [
       "                                               title  rank        date  \\\n",
       "0                                        Purple Rain     1  2017-02-17   \n",
       "1       City Of Stars - From \"La La Land\" Soundtrack     1  2017-01-28   \n",
       "2                                      Sleep Talking     1  2017-10-24   \n",
       "3                 Despacito (Featuring Daddy Yankee)     1  2017-01-30   \n",
       "4                                  Despacito - Remix     1  2017-04-21   \n",
       "...                                              ...   ...         ...   \n",
       "136448             10,000 Hours (with Justin Bieber)   131  2021-06-05   \n",
       "136449                eight(Prod.&Feat. SUGA of BTS)    21  2021-03-17   \n",
       "136450                                      Spaceman   190  2021-03-17   \n",
       "136451                                     Lovemonth    41  2021-04-13   \n",
       "136452                                        Closer   185  2021-09-02   \n",
       "\n",
       "                                         artist  \\\n",
       "0                                        Prince   \n",
       "1                      Ryan Gosling, Emma Stone   \n",
       "2                            Charlotte Lawrence   \n",
       "3                                    Luis Fonsi   \n",
       "4       Luis Fonsi, Daddy Yankee, Justin Bieber   \n",
       "...                                         ...   \n",
       "136448                               Dan + Shay   \n",
       "136449                                       IU   \n",
       "136450                               Nick Jonas   \n",
       "136451                                   YUKIKA   \n",
       "136452                 The Chainsmokers, Halsey   \n",
       "\n",
       "                                                          url       region  \\\n",
       "0       https://open.spotify.com/track/54X78diSLoUDI3joC2bjMz    Argentina   \n",
       "1       https://open.spotify.com/track/0LtVx5vsq9nfpGsWgjUin6       Mexico   \n",
       "2       https://open.spotify.com/track/0bOH2yZkaVSg2OdegIlp2J       Brazil   \n",
       "3       https://open.spotify.com/track/4aWmUDTfIPGksMNLV2rQP2      Uruguay   \n",
       "4       https://open.spotify.com/track/5CtI0qwDJkDQGwXD1H1cLb         Peru   \n",
       "...                                                       ...          ...   \n",
       "136448  https://open.spotify.com/track/2wrJq5XKLnmhRXHIAf9xBa  South Korea   \n",
       "136449  https://open.spotify.com/track/0pYacDCZuRhcrwGUA5nTBe  South Korea   \n",
       "136450  https://open.spotify.com/track/1Tf0qifzTHdDC9RnTW9Di3  South Korea   \n",
       "136451  https://open.spotify.com/track/5KnAca7g0lgwzCNA64WE9d  South Korea   \n",
       "136452  https://open.spotify.com/track/7BKLCZ1jbUBVqRi2FVlTVw  South Korea   \n",
       "\n",
       "          chart          trend  streams  year  \n",
       "0       viral50  SAME_POSITION      NaN  2017  \n",
       "1       viral50  SAME_POSITION      NaN  2017  \n",
       "2       viral50  SAME_POSITION      NaN  2017  \n",
       "3        top200  SAME_POSITION  33967.0  2017  \n",
       "4        top200  SAME_POSITION  98818.0  2017  \n",
       "...         ...            ...      ...   ...  \n",
       "136448   top200      MOVE_DOWN   1651.0  2021  \n",
       "136449   top200        MOVE_UP   3404.0  2021  \n",
       "136450   top200      MOVE_DOWN   1028.0  2021  \n",
       "136451  viral50      MOVE_DOWN      NaN  2021  \n",
       "136452   top200        MOVE_UP   1410.0  2021  \n",
       "\n",
       "[136453 rows x 10 columns]"
      ]
     },
     "execution_count": 21,
     "metadata": {},
     "output_type": "execute_result"
    }
   ],
   "source": [
    "spotify_df"
   ]
  },
  {
   "cell_type": "markdown",
   "metadata": {},
   "source": [
    "# Analizando datos de Taylor Swift en Spotify Charts 🎶📊\n",
    "\n",
    "Vamos a explorar un poco los datos de Taylor Swift en los **Spotify Charts**!  \n",
    "Descubriremos cómo se mueven sus canciones en la plataforma 🔍✨\n"
   ]
  },
  {
   "cell_type": "code",
   "execution_count": 22,
   "metadata": {},
   "outputs": [],
   "source": [
    "ts_df = spotify_df[spotify_df['artist'].str.contains('Taylor Swift', case=False, na=False)]"
   ]
  },
  {
   "cell_type": "code",
   "execution_count": 23,
   "metadata": {},
   "outputs": [
    {
     "name": "stdout",
     "output_type": "stream",
     "text": [
      "Número total de canciones de Taylor Swift en top200: 161\n"
     ]
    }
   ],
   "source": [
    "ts_top200 = ts_df[ts_df['chart'] == 'top200']\n",
    "num_canciones = ts_top200['title'].nunique()\n",
    "print(\"Número total de canciones de Taylor Swift en top200:\", num_canciones)\n"
   ]
  },
  {
   "cell_type": "code",
   "execution_count": 24,
   "metadata": {},
   "outputs": [
    {
     "name": "stdout",
     "output_type": "stream",
     "text": [
      "\n",
      "Listado TOP 10 de canciones por streams:\n"
     ]
    },
    {
     "data": {
      "application/vnd.microsoft.datawrangler.viewer.v0+json": {
       "columns": [
        {
         "name": "index",
         "rawType": "int64",
         "type": "integer"
        },
        {
         "name": "title",
         "rawType": "object",
         "type": "string"
        },
        {
         "name": "streams",
         "rawType": "float64",
         "type": "float"
        }
       ],
       "conversionMethod": "pd.DataFrame",
       "ref": "d5b28ddd-0603-440b-9321-a588ecd463c1",
       "rows": [
        [
         "59",
         "I Don’t Wanna Live Forever (Fifty Shades Darker) - From \"Fifty Shades Darker (Original Motion Picture Soundtrack)\"",
         "1188881709.0"
        ],
        [
         "74",
         "ME! (feat. Brendon Urie of Panic! At The Disco)",
         "604471241.0"
        ],
        [
         "124",
         "You Need To Calm Down",
         "603204197.0"
        ],
        [
         "69",
         "Look What You Made Me Do",
         "598212296.0"
        ],
        [
         "158",
         "willow",
         "376388882.0"
        ],
        [
         "72",
         "Lover",
         "341541784.0"
        ],
        [
         "128",
         "cardigan",
         "285012009.0"
        ],
        [
         "6",
         "All Too Well (10 Minute Version) (Taylor's Version) (From The Vault)",
         "255513190.0"
        ],
        [
         "0",
         "...Ready For It?",
         "249985750.0"
        ],
        [
         "32",
         "Delicate",
         "239631298.0"
        ]
       ],
       "shape": {
        "columns": 2,
        "rows": 10
       }
      },
      "text/html": [
       "<div>\n",
       "<style scoped>\n",
       "    .dataframe tbody tr th:only-of-type {\n",
       "        vertical-align: middle;\n",
       "    }\n",
       "\n",
       "    .dataframe tbody tr th {\n",
       "        vertical-align: top;\n",
       "    }\n",
       "\n",
       "    .dataframe thead th {\n",
       "        text-align: right;\n",
       "    }\n",
       "</style>\n",
       "<table border=\"1\" class=\"dataframe\">\n",
       "  <thead>\n",
       "    <tr style=\"text-align: right;\">\n",
       "      <th></th>\n",
       "      <th>title</th>\n",
       "      <th>streams</th>\n",
       "    </tr>\n",
       "  </thead>\n",
       "  <tbody>\n",
       "    <tr>\n",
       "      <th>59</th>\n",
       "      <td>I Don’t Wanna Live Forever (Fifty Shades Darker) - From \"Fifty Shades Darker...</td>\n",
       "      <td>1.188882e+09</td>\n",
       "    </tr>\n",
       "    <tr>\n",
       "      <th>74</th>\n",
       "      <td>ME! (feat. Brendon Urie of Panic! At The Disco)</td>\n",
       "      <td>6.044712e+08</td>\n",
       "    </tr>\n",
       "    <tr>\n",
       "      <th>124</th>\n",
       "      <td>You Need To Calm Down</td>\n",
       "      <td>6.032042e+08</td>\n",
       "    </tr>\n",
       "    <tr>\n",
       "      <th>69</th>\n",
       "      <td>Look What You Made Me Do</td>\n",
       "      <td>5.982123e+08</td>\n",
       "    </tr>\n",
       "    <tr>\n",
       "      <th>158</th>\n",
       "      <td>willow</td>\n",
       "      <td>3.763889e+08</td>\n",
       "    </tr>\n",
       "    <tr>\n",
       "      <th>72</th>\n",
       "      <td>Lover</td>\n",
       "      <td>3.415418e+08</td>\n",
       "    </tr>\n",
       "    <tr>\n",
       "      <th>128</th>\n",
       "      <td>cardigan</td>\n",
       "      <td>2.850120e+08</td>\n",
       "    </tr>\n",
       "    <tr>\n",
       "      <th>6</th>\n",
       "      <td>All Too Well (10 Minute Version) (Taylor's Version) (From The Vault)</td>\n",
       "      <td>2.555132e+08</td>\n",
       "    </tr>\n",
       "    <tr>\n",
       "      <th>0</th>\n",
       "      <td>...Ready For It?</td>\n",
       "      <td>2.499858e+08</td>\n",
       "    </tr>\n",
       "    <tr>\n",
       "      <th>32</th>\n",
       "      <td>Delicate</td>\n",
       "      <td>2.396313e+08</td>\n",
       "    </tr>\n",
       "  </tbody>\n",
       "</table>\n",
       "</div>"
      ],
      "text/plain": [
       "                                                                               title  \\\n",
       "59   I Don’t Wanna Live Forever (Fifty Shades Darker) - From \"Fifty Shades Darker...   \n",
       "74                                   ME! (feat. Brendon Urie of Panic! At The Disco)   \n",
       "124                                                            You Need To Calm Down   \n",
       "69                                                          Look What You Made Me Do   \n",
       "158                                                                           willow   \n",
       "72                                                                             Lover   \n",
       "128                                                                         cardigan   \n",
       "6               All Too Well (10 Minute Version) (Taylor's Version) (From The Vault)   \n",
       "0                                                                   ...Ready For It?   \n",
       "32                                                                          Delicate   \n",
       "\n",
       "          streams  \n",
       "59   1.188882e+09  \n",
       "74   6.044712e+08  \n",
       "124  6.032042e+08  \n",
       "69   5.982123e+08  \n",
       "158  3.763889e+08  \n",
       "72   3.415418e+08  \n",
       "128  2.850120e+08  \n",
       "6    2.555132e+08  \n",
       "0    2.499858e+08  \n",
       "32   2.396313e+08  "
      ]
     },
     "execution_count": 24,
     "metadata": {},
     "output_type": "execute_result"
    }
   ],
   "source": [
    "top10_streams = (ts_df[ts_df['streams'].notna()]\n",
    "                 .groupby('title', as_index=False)['streams'].sum()\n",
    "                 .sort_values(by='streams', ascending=False)\n",
    "                 .head(10))\n",
    "print(\"\\nListado TOP 10 de canciones por streams:\")\n",
    "top10_streams\n"
   ]
  },
  {
   "cell_type": "markdown",
   "metadata": {},
   "source": [
    "### Indentado 📝\n",
    "\n",
    "El **indentado** es usar **espacios** o **tabulaciones** al inicio de una línea de texto para **organizar** y **visualizar mejor** la estructura, especialmente en código.\n",
    "\n",
    "Ejemplo:\n",
    "```python\n",
    "if True:\n",
    "    print(\"¡Indentado!\")\n",
    "```"
   ]
  },
  {
   "cell_type": "code",
   "execution_count": null,
   "metadata": {},
   "outputs": [],
   "source": [
    "\n",
    "veces_posicion1 = ts_top200[ts_top200['rank'] == 1].shape[0]\n",
    "print(\"\\nTotal de veces que Taylor Swift estuvo en la posición 1:\", veces_posicion1)\n"
   ]
  },
  {
   "cell_type": "code",
   "execution_count": 27,
   "metadata": {},
   "outputs": [
    {
     "data": {
      "application/vnd.plotly.v1+json": {
       "config": {
        "plotlyServerURL": "https://plot.ly"
       },
       "data": [
        {
         "alignmentgroup": "True",
         "hovertemplate": "date=%{x}<br>streams=%{y}<extra></extra>",
         "legendgroup": "",
         "marker": {
          "color": "#FF0000",
          "pattern": {
           "shape": ""
          }
         },
         "name": "",
         "offsetgroup": "",
         "orientation": "v",
         "showlegend": false,
         "textposition": "auto",
         "type": "bar",
         "x": [
          "2018-12-01",
          "2018-12-02",
          "2018-12-03",
          "2018-11-04",
          "2018-11-05",
          "2018-12-04",
          "2018-12-05",
          "2018-12-06",
          "2018-12-07",
          "2018-12-08",
          "2018-11-06",
          "2018-11-07",
          "2018-11-08",
          "2018-11-09",
          "2018-11-10",
          "2018-11-11",
          "2018-11-12",
          "2018-11-13",
          "2018-11-14",
          "2018-11-15",
          "2018-12-09",
          "2018-11-16",
          "2018-12-10",
          "2018-11-17",
          "2018-12-11",
          "2018-11-18",
          "2018-12-12",
          "2018-12-13",
          "2018-11-19",
          "2018-12-14",
          "2018-11-20",
          "2018-12-15",
          "2018-11-21",
          "2018-12-16",
          "2018-11-22",
          "2018-12-17",
          "2018-11-23",
          "2018-12-18",
          "2018-11-24",
          "2018-11-25",
          "2018-12-19",
          "2018-11-26",
          "2018-12-20",
          "2018-11-27",
          "2018-11-28",
          "2018-12-21",
          "2018-11-29",
          "2018-12-22",
          "2018-11-30",
          "2018-12-23",
          "2018-12-24",
          "2019-11-01",
          "2019-11-02",
          "2019-11-03",
          "2018-12-25",
          "2019-11-04",
          "2018-12-26",
          "2019-11-05",
          "2018-12-27",
          "2019-11-06",
          "2018-12-28",
          "2019-11-07",
          "2018-12-29",
          "2019-11-08",
          "2019-11-09",
          "2018-12-31",
          "2019-11-10",
          "2019-12-01",
          "2019-11-11",
          "2019-12-02",
          "2019-11-12",
          "2019-12-03",
          "2019-11-13",
          "2019-12-04",
          "2019-11-14",
          "2019-12-05",
          "2019-11-15",
          "2019-12-06",
          "2019-11-16",
          "2019-12-07",
          "2019-11-17",
          "2019-11-18",
          "2019-12-08",
          "2019-12-09",
          "2019-11-19",
          "2019-11-20",
          "2019-11-21",
          "2019-12-10",
          "2019-11-22",
          "2019-12-11",
          "2019-11-23",
          "2019-11-24",
          "2019-12-12",
          "2019-11-25",
          "2019-12-13",
          "2019-11-26",
          "2019-12-14",
          "2019-11-27",
          "2019-12-15",
          "2019-12-16",
          "2019-11-28",
          "2019-12-17",
          "2019-11-29",
          "2019-12-18",
          "2019-11-30",
          "2019-12-19",
          "2019-12-20",
          "2019-12-21",
          "2019-12-22",
          "2019-12-23",
          "2019-12-24",
          "2019-12-25",
          "2019-12-26",
          "2019-12-27",
          "2019-12-28",
          "2019-12-29",
          "2019-12-31",
          "2020-11-01",
          "2020-12-01",
          "2020-11-02",
          "2020-12-02",
          "2020-11-03",
          "2020-12-03",
          "2020-11-04",
          "2020-12-04",
          "2020-11-05",
          "2020-12-05",
          "2020-11-06",
          "2020-12-06",
          "2020-11-07",
          "2020-12-07",
          "2020-11-08",
          "2020-12-08",
          "2020-11-09",
          "2020-12-09",
          "2020-11-10",
          "2020-11-11",
          "2020-11-12",
          "2020-12-10",
          "2020-11-13",
          "2020-12-11",
          "2020-11-14",
          "2020-12-12",
          "2020-12-13",
          "2020-11-15",
          "2020-12-14",
          "2020-11-16",
          "2020-11-17",
          "2020-12-15",
          "2020-11-18",
          "2020-12-16",
          "2020-11-19",
          "2020-12-17",
          "2020-12-18",
          "2020-11-20",
          "2020-12-19",
          "2020-11-21",
          "2020-12-20",
          "2020-11-22",
          "2020-12-21",
          "2020-12-22",
          "2020-11-23",
          "2020-11-24",
          "2020-12-23",
          "2020-11-25",
          "2020-12-24",
          "2020-11-26",
          "2020-12-25",
          "2020-11-27",
          "2020-11-28",
          "2020-12-26",
          "2020-11-29",
          "2020-12-27",
          "2020-11-30",
          "2020-12-28",
          "2020-12-29",
          "2020-12-30",
          "2020-12-31",
          "2017-11-11",
          "2017-11-12",
          "2021-11-01",
          "2017-11-13",
          "2021-11-02",
          "2017-11-14",
          "2021-11-03",
          "2017-11-15",
          "2017-11-16",
          "2021-11-04",
          "2017-11-17",
          "2017-11-18",
          "2017-11-19",
          "2021-11-05",
          "2017-11-20",
          "2017-11-21",
          "2021-11-06",
          "2017-11-22",
          "2021-11-07",
          "2017-11-23",
          "2021-11-08",
          "2017-11-24",
          "2021-11-09",
          "2017-11-25",
          "2021-12-01",
          "2021-12-02",
          "2021-11-10",
          "2021-12-03",
          "2021-12-04",
          "2021-12-05",
          "2017-11-26",
          "2021-12-06",
          "2021-12-07",
          "2021-12-08",
          "2021-12-09",
          "2017-11-27",
          "2021-12-10",
          "2021-12-11",
          "2021-12-12",
          "2021-12-13",
          "2021-11-11",
          "2021-12-14",
          "2021-12-15",
          "2017-11-28",
          "2021-12-16",
          "2021-12-17",
          "2021-12-18",
          "2021-12-19",
          "2021-12-20",
          "2021-11-12",
          "2017-11-29",
          "2021-11-13",
          "2017-11-30",
          "2017-12-01",
          "2021-11-14",
          "2017-12-02",
          "2021-11-15",
          "2017-12-03",
          "2017-12-04",
          "2021-11-16",
          "2017-12-05",
          "2021-11-17",
          "2017-12-06",
          "2021-11-18",
          "2017-12-07",
          "2017-12-08",
          "2021-11-19",
          "2021-11-20",
          "2017-12-09",
          "2021-11-21",
          "2017-12-10",
          "2021-11-22",
          "2021-11-23",
          "2017-12-11",
          "2021-11-24",
          "2017-12-12",
          "2017-12-13",
          "2021-11-25",
          "2021-11-26",
          "2017-12-14",
          "2021-11-27",
          "2017-12-15",
          "2021-11-28",
          "2017-12-16",
          "2017-12-17",
          "2021-11-29",
          "2017-12-18",
          "2017-12-19",
          "2017-12-20",
          "2017-12-21",
          "2017-12-22",
          "2017-12-23",
          "2017-12-24",
          "2021-11-30",
          "2017-12-25",
          "2017-12-26",
          "2017-12-27",
          "2017-12-28",
          "2017-12-29"
         ],
         "xaxis": "x",
         "y": [
          4258617,
          4050744,
          3186596,
          560994,
          577270,
          3206096,
          3269308,
          3230966,
          3325883,
          4058207,
          590010,
          597601,
          622149,
          724190,
          788625,
          804324,
          818594,
          866824,
          907374,
          1018052,
          3778232,
          1070189,
          2885315,
          1267406,
          2917608,
          1388484,
          3019249,
          3320934,
          1332315,
          3767567,
          1376416,
          4386503,
          1379270,
          4185555,
          1500227,
          3254769,
          1708081,
          3383765,
          2051522,
          2191027,
          3610047,
          2013815,
          4069959,
          2086070,
          2153285,
          5073944,
          2234833,
          5535926,
          2689495,
          5963547,
          10819009,
          698686,
          682522,
          666649,
          8449779,
          668596,
          2402954,
          691681,
          1105366,
          734820,
          784524,
          800337,
          631756,
          841427,
          882039,
          682293,
          888990,
          4125994,
          934365,
          3194190,
          982750,
          3137734,
          983304,
          3138589,
          997007,
          3076262,
          1037397,
          3456562,
          1170612,
          4077010,
          1219223,
          1116397,
          3948538,
          2972596,
          1174293,
          1215749,
          1342208,
          2977696,
          1561600,
          3118111,
          1779235,
          1815044,
          3265221,
          1668702,
          3704340,
          1748134,
          4330169,
          1890507,
          3972040,
          3346452,
          2058910,
          3564975,
          2460694,
          3810948,
          3102423,
          4183231,
          5040783,
          5371038,
          5174975,
          5916368,
          12028987,
          9268219,
          2700576,
          1297411,
          958199,
          682525,
          817300,
          882541,
          4425670,
          879570,
          4074896,
          841019,
          4095149,
          746550,
          4688986,
          791191,
          6143617,
          867647,
          5902919,
          989339,
          4161880,
          1035881,
          4237929,
          971525,
          4130562,
          1021650,
          1109961,
          1134159,
          4197593,
          1259312,
          4636041,
          1555314,
          5749340,
          5144323,
          1617058,
          3909890,
          1454171,
          1524404,
          4081863,
          1588193,
          4333637,
          1712476,
          4701261,
          5492797,
          1954784,
          6251637,
          2587920,
          5803653,
          2645172,
          5186777,
          5726766,
          2173948,
          2282244,
          7716516,
          2525455,
          17223237,
          2879860,
          13573228,
          3374381,
          4575782,
          3782246,
          4791768,
          1700510,
          3513355,
          1182809,
          930005,
          802210,
          1264249,
          510564,
          527638,
          889177,
          520761,
          934667,
          549203,
          914176,
          580404,
          607493,
          929100,
          637954,
          704444,
          818232,
          906253,
          864654,
          956067,
          941220,
          1014096,
          954810,
          1093369,
          899378,
          1240709,
          918688,
          1535907,
          3766798,
          3505198,
          962209,
          4045859,
          5157946,
          4998721,
          1699312,
          3855871,
          3842135,
          4278075,
          4165715,
          1638480,
          4778540,
          5775682,
          5076537,
          3865915,
          1040192,
          3997990,
          4222756,
          1674275,
          4458173,
          5259091,
          6165285,
          5624976,
          4845717,
          1112018,
          1761630,
          1299488,
          2023476,
          2759962,
          1394321,
          3145919,
          1232593,
          3216235,
          2629693,
          1211351,
          2620104,
          1301263,
          2630111,
          1381936,
          2682297,
          3091475,
          1536107,
          1938763,
          3646794,
          1995763,
          3506287,
          1729887,
          1843913,
          2775593,
          2045019,
          2720747,
          2768504,
          2330354,
          2936109,
          2886430,
          3784127,
          3169712,
          4202241,
          3648347,
          3356225,
          2934633,
          2923650,
          3077592,
          3312544,
          3675940,
          4355458,
          5023033,
          8069105,
          3047002,
          6467590,
          1924430,
          967135,
          664059,
          485353
         ],
         "yaxis": "y"
        }
       ],
       "layout": {
        "barmode": "relative",
        "legend": {
         "tracegroupgap": 0
        },
        "template": {
         "data": {
          "bar": [
           {
            "error_x": {
             "color": "#2a3f5f"
            },
            "error_y": {
             "color": "#2a3f5f"
            },
            "marker": {
             "line": {
              "color": "#E5ECF6",
              "width": 0.5
             },
             "pattern": {
              "fillmode": "overlay",
              "size": 10,
              "solidity": 0.2
             }
            },
            "type": "bar"
           }
          ],
          "barpolar": [
           {
            "marker": {
             "line": {
              "color": "#E5ECF6",
              "width": 0.5
             },
             "pattern": {
              "fillmode": "overlay",
              "size": 10,
              "solidity": 0.2
             }
            },
            "type": "barpolar"
           }
          ],
          "carpet": [
           {
            "aaxis": {
             "endlinecolor": "#2a3f5f",
             "gridcolor": "white",
             "linecolor": "white",
             "minorgridcolor": "white",
             "startlinecolor": "#2a3f5f"
            },
            "baxis": {
             "endlinecolor": "#2a3f5f",
             "gridcolor": "white",
             "linecolor": "white",
             "minorgridcolor": "white",
             "startlinecolor": "#2a3f5f"
            },
            "type": "carpet"
           }
          ],
          "choropleth": [
           {
            "colorbar": {
             "outlinewidth": 0,
             "ticks": ""
            },
            "type": "choropleth"
           }
          ],
          "contour": [
           {
            "colorbar": {
             "outlinewidth": 0,
             "ticks": ""
            },
            "colorscale": [
             [
              0,
              "#0d0887"
             ],
             [
              0.1111111111111111,
              "#46039f"
             ],
             [
              0.2222222222222222,
              "#7201a8"
             ],
             [
              0.3333333333333333,
              "#9c179e"
             ],
             [
              0.4444444444444444,
              "#bd3786"
             ],
             [
              0.5555555555555556,
              "#d8576b"
             ],
             [
              0.6666666666666666,
              "#ed7953"
             ],
             [
              0.7777777777777778,
              "#fb9f3a"
             ],
             [
              0.8888888888888888,
              "#fdca26"
             ],
             [
              1,
              "#f0f921"
             ]
            ],
            "type": "contour"
           }
          ],
          "contourcarpet": [
           {
            "colorbar": {
             "outlinewidth": 0,
             "ticks": ""
            },
            "type": "contourcarpet"
           }
          ],
          "heatmap": [
           {
            "colorbar": {
             "outlinewidth": 0,
             "ticks": ""
            },
            "colorscale": [
             [
              0,
              "#0d0887"
             ],
             [
              0.1111111111111111,
              "#46039f"
             ],
             [
              0.2222222222222222,
              "#7201a8"
             ],
             [
              0.3333333333333333,
              "#9c179e"
             ],
             [
              0.4444444444444444,
              "#bd3786"
             ],
             [
              0.5555555555555556,
              "#d8576b"
             ],
             [
              0.6666666666666666,
              "#ed7953"
             ],
             [
              0.7777777777777778,
              "#fb9f3a"
             ],
             [
              0.8888888888888888,
              "#fdca26"
             ],
             [
              1,
              "#f0f921"
             ]
            ],
            "type": "heatmap"
           }
          ],
          "heatmapgl": [
           {
            "colorbar": {
             "outlinewidth": 0,
             "ticks": ""
            },
            "colorscale": [
             [
              0,
              "#0d0887"
             ],
             [
              0.1111111111111111,
              "#46039f"
             ],
             [
              0.2222222222222222,
              "#7201a8"
             ],
             [
              0.3333333333333333,
              "#9c179e"
             ],
             [
              0.4444444444444444,
              "#bd3786"
             ],
             [
              0.5555555555555556,
              "#d8576b"
             ],
             [
              0.6666666666666666,
              "#ed7953"
             ],
             [
              0.7777777777777778,
              "#fb9f3a"
             ],
             [
              0.8888888888888888,
              "#fdca26"
             ],
             [
              1,
              "#f0f921"
             ]
            ],
            "type": "heatmapgl"
           }
          ],
          "histogram": [
           {
            "marker": {
             "pattern": {
              "fillmode": "overlay",
              "size": 10,
              "solidity": 0.2
             }
            },
            "type": "histogram"
           }
          ],
          "histogram2d": [
           {
            "colorbar": {
             "outlinewidth": 0,
             "ticks": ""
            },
            "colorscale": [
             [
              0,
              "#0d0887"
             ],
             [
              0.1111111111111111,
              "#46039f"
             ],
             [
              0.2222222222222222,
              "#7201a8"
             ],
             [
              0.3333333333333333,
              "#9c179e"
             ],
             [
              0.4444444444444444,
              "#bd3786"
             ],
             [
              0.5555555555555556,
              "#d8576b"
             ],
             [
              0.6666666666666666,
              "#ed7953"
             ],
             [
              0.7777777777777778,
              "#fb9f3a"
             ],
             [
              0.8888888888888888,
              "#fdca26"
             ],
             [
              1,
              "#f0f921"
             ]
            ],
            "type": "histogram2d"
           }
          ],
          "histogram2dcontour": [
           {
            "colorbar": {
             "outlinewidth": 0,
             "ticks": ""
            },
            "colorscale": [
             [
              0,
              "#0d0887"
             ],
             [
              0.1111111111111111,
              "#46039f"
             ],
             [
              0.2222222222222222,
              "#7201a8"
             ],
             [
              0.3333333333333333,
              "#9c179e"
             ],
             [
              0.4444444444444444,
              "#bd3786"
             ],
             [
              0.5555555555555556,
              "#d8576b"
             ],
             [
              0.6666666666666666,
              "#ed7953"
             ],
             [
              0.7777777777777778,
              "#fb9f3a"
             ],
             [
              0.8888888888888888,
              "#fdca26"
             ],
             [
              1,
              "#f0f921"
             ]
            ],
            "type": "histogram2dcontour"
           }
          ],
          "mesh3d": [
           {
            "colorbar": {
             "outlinewidth": 0,
             "ticks": ""
            },
            "type": "mesh3d"
           }
          ],
          "parcoords": [
           {
            "line": {
             "colorbar": {
              "outlinewidth": 0,
              "ticks": ""
             }
            },
            "type": "parcoords"
           }
          ],
          "pie": [
           {
            "automargin": true,
            "type": "pie"
           }
          ],
          "scatter": [
           {
            "fillpattern": {
             "fillmode": "overlay",
             "size": 10,
             "solidity": 0.2
            },
            "type": "scatter"
           }
          ],
          "scatter3d": [
           {
            "line": {
             "colorbar": {
              "outlinewidth": 0,
              "ticks": ""
             }
            },
            "marker": {
             "colorbar": {
              "outlinewidth": 0,
              "ticks": ""
             }
            },
            "type": "scatter3d"
           }
          ],
          "scattercarpet": [
           {
            "marker": {
             "colorbar": {
              "outlinewidth": 0,
              "ticks": ""
             }
            },
            "type": "scattercarpet"
           }
          ],
          "scattergeo": [
           {
            "marker": {
             "colorbar": {
              "outlinewidth": 0,
              "ticks": ""
             }
            },
            "type": "scattergeo"
           }
          ],
          "scattergl": [
           {
            "marker": {
             "colorbar": {
              "outlinewidth": 0,
              "ticks": ""
             }
            },
            "type": "scattergl"
           }
          ],
          "scattermapbox": [
           {
            "marker": {
             "colorbar": {
              "outlinewidth": 0,
              "ticks": ""
             }
            },
            "type": "scattermapbox"
           }
          ],
          "scatterpolar": [
           {
            "marker": {
             "colorbar": {
              "outlinewidth": 0,
              "ticks": ""
             }
            },
            "type": "scatterpolar"
           }
          ],
          "scatterpolargl": [
           {
            "marker": {
             "colorbar": {
              "outlinewidth": 0,
              "ticks": ""
             }
            },
            "type": "scatterpolargl"
           }
          ],
          "scatterternary": [
           {
            "marker": {
             "colorbar": {
              "outlinewidth": 0,
              "ticks": ""
             }
            },
            "type": "scatterternary"
           }
          ],
          "surface": [
           {
            "colorbar": {
             "outlinewidth": 0,
             "ticks": ""
            },
            "colorscale": [
             [
              0,
              "#0d0887"
             ],
             [
              0.1111111111111111,
              "#46039f"
             ],
             [
              0.2222222222222222,
              "#7201a8"
             ],
             [
              0.3333333333333333,
              "#9c179e"
             ],
             [
              0.4444444444444444,
              "#bd3786"
             ],
             [
              0.5555555555555556,
              "#d8576b"
             ],
             [
              0.6666666666666666,
              "#ed7953"
             ],
             [
              0.7777777777777778,
              "#fb9f3a"
             ],
             [
              0.8888888888888888,
              "#fdca26"
             ],
             [
              1,
              "#f0f921"
             ]
            ],
            "type": "surface"
           }
          ],
          "table": [
           {
            "cells": {
             "fill": {
              "color": "#EBF0F8"
             },
             "line": {
              "color": "white"
             }
            },
            "header": {
             "fill": {
              "color": "#C8D4E3"
             },
             "line": {
              "color": "white"
             }
            },
            "type": "table"
           }
          ]
         },
         "layout": {
          "annotationdefaults": {
           "arrowcolor": "#2a3f5f",
           "arrowhead": 0,
           "arrowwidth": 1
          },
          "autotypenumbers": "strict",
          "coloraxis": {
           "colorbar": {
            "outlinewidth": 0,
            "ticks": ""
           }
          },
          "colorscale": {
           "diverging": [
            [
             0,
             "#8e0152"
            ],
            [
             0.1,
             "#c51b7d"
            ],
            [
             0.2,
             "#de77ae"
            ],
            [
             0.3,
             "#f1b6da"
            ],
            [
             0.4,
             "#fde0ef"
            ],
            [
             0.5,
             "#f7f7f7"
            ],
            [
             0.6,
             "#e6f5d0"
            ],
            [
             0.7,
             "#b8e186"
            ],
            [
             0.8,
             "#7fbc41"
            ],
            [
             0.9,
             "#4d9221"
            ],
            [
             1,
             "#276419"
            ]
           ],
           "sequential": [
            [
             0,
             "#0d0887"
            ],
            [
             0.1111111111111111,
             "#46039f"
            ],
            [
             0.2222222222222222,
             "#7201a8"
            ],
            [
             0.3333333333333333,
             "#9c179e"
            ],
            [
             0.4444444444444444,
             "#bd3786"
            ],
            [
             0.5555555555555556,
             "#d8576b"
            ],
            [
             0.6666666666666666,
             "#ed7953"
            ],
            [
             0.7777777777777778,
             "#fb9f3a"
            ],
            [
             0.8888888888888888,
             "#fdca26"
            ],
            [
             1,
             "#f0f921"
            ]
           ],
           "sequentialminus": [
            [
             0,
             "#0d0887"
            ],
            [
             0.1111111111111111,
             "#46039f"
            ],
            [
             0.2222222222222222,
             "#7201a8"
            ],
            [
             0.3333333333333333,
             "#9c179e"
            ],
            [
             0.4444444444444444,
             "#bd3786"
            ],
            [
             0.5555555555555556,
             "#d8576b"
            ],
            [
             0.6666666666666666,
             "#ed7953"
            ],
            [
             0.7777777777777778,
             "#fb9f3a"
            ],
            [
             0.8888888888888888,
             "#fdca26"
            ],
            [
             1,
             "#f0f921"
            ]
           ]
          },
          "colorway": [
           "#636efa",
           "#EF553B",
           "#00cc96",
           "#ab63fa",
           "#FFA15A",
           "#19d3f3",
           "#FF6692",
           "#B6E880",
           "#FF97FF",
           "#FECB52"
          ],
          "font": {
           "color": "#2a3f5f"
          },
          "geo": {
           "bgcolor": "white",
           "lakecolor": "white",
           "landcolor": "#E5ECF6",
           "showlakes": true,
           "showland": true,
           "subunitcolor": "white"
          },
          "hoverlabel": {
           "align": "left"
          },
          "hovermode": "closest",
          "mapbox": {
           "style": "light"
          },
          "paper_bgcolor": "white",
          "plot_bgcolor": "#E5ECF6",
          "polar": {
           "angularaxis": {
            "gridcolor": "white",
            "linecolor": "white",
            "ticks": ""
           },
           "bgcolor": "#E5ECF6",
           "radialaxis": {
            "gridcolor": "white",
            "linecolor": "white",
            "ticks": ""
           }
          },
          "scene": {
           "xaxis": {
            "backgroundcolor": "#E5ECF6",
            "gridcolor": "white",
            "gridwidth": 2,
            "linecolor": "white",
            "showbackground": true,
            "ticks": "",
            "zerolinecolor": "white"
           },
           "yaxis": {
            "backgroundcolor": "#E5ECF6",
            "gridcolor": "white",
            "gridwidth": 2,
            "linecolor": "white",
            "showbackground": true,
            "ticks": "",
            "zerolinecolor": "white"
           },
           "zaxis": {
            "backgroundcolor": "#E5ECF6",
            "gridcolor": "white",
            "gridwidth": 2,
            "linecolor": "white",
            "showbackground": true,
            "ticks": "",
            "zerolinecolor": "white"
           }
          },
          "shapedefaults": {
           "line": {
            "color": "#2a3f5f"
           }
          },
          "ternary": {
           "aaxis": {
            "gridcolor": "white",
            "linecolor": "white",
            "ticks": ""
           },
           "baxis": {
            "gridcolor": "white",
            "linecolor": "white",
            "ticks": ""
           },
           "bgcolor": "#E5ECF6",
           "caxis": {
            "gridcolor": "white",
            "linecolor": "white",
            "ticks": ""
           }
          },
          "title": {
           "x": 0.05
          },
          "xaxis": {
           "automargin": true,
           "gridcolor": "white",
           "linecolor": "white",
           "ticks": "",
           "title": {
            "standoff": 15
           },
           "zerolinecolor": "white",
           "zerolinewidth": 2
          },
          "yaxis": {
           "automargin": true,
           "gridcolor": "white",
           "linecolor": "white",
           "ticks": "",
           "title": {
            "standoff": 15
           },
           "zerolinecolor": "white",
           "zerolinewidth": 2
          }
         }
        },
        "title": {
         "text": "Apariciones de 'All I Want for Christmas Is You' en el top 200 de Spotify"
        },
        "xaxis": {
         "anchor": "y",
         "domain": [
          0,
          1
         ],
         "title": {
          "text": "date"
         }
        },
        "yaxis": {
         "anchor": "x",
         "domain": [
          0,
          1
         ],
         "tickformat": ".2s",
         "ticksuffix": " streams",
         "title": {
          "text": "streams"
         }
        }
       }
      }
     },
     "metadata": {},
     "output_type": "display_data"
    }
   ],
   "source": [
    "filtered_df = spotify_df[\n",
    "    (spotify_df['title'] == \"All I Want for Christmas Is You\") &\n",
    "    (spotify_df['region'] == \"Global\") &\n",
    "    (spotify_df['chart'] == \"top200\") &\n",
    "    (spotify_df['artist'] == \"Mariah Carey\")\n",
    "]\n",
    "\n",
    "\n",
    "fig = px.bar(filtered_df, x='date', y='streams',\n",
    "             title=\"Apariciones de 'All I Want for Christmas Is You' en el top 200 de Spotify\",\n",
    "             color_discrete_sequence=['#FF0000'])  # Color rojo para Navidad\n",
    "\n",
    "# Actualizar el eje y para mostrar valores en millones\n",
    "fig.update_yaxes(ticksuffix=\" streams\", tickformat=\".2s\")\n",
    "\n",
    "# Mostrar la gráfica\n",
    "fig.show()"
   ]
  },
  {
   "cell_type": "markdown",
   "metadata": {},
   "source": [
    "Esta canción muestra un comportamiento **estacional**. Un científico de datos puede abordarlo de la siguiente manera:\n",
    "\n",
    "- **Identificar Periodicidad**:  \n",
    "  Observar si los picos de streams se repiten de manera anual o en fechas específicas, como durante la temporada navideña.\n",
    "\n",
    "- **Modelado con Serie Temporal**:  \n",
    "  Emplear modelos que integran la estacionalidad para pronosticar tendencias.  \n",
    "  - **ARIMA** \n",
    "  - **Prophet de Facebook**\n"
   ]
  },
  {
   "cell_type": "code",
   "execution_count": 28,
   "metadata": {},
   "outputs": [
    {
     "data": {
      "application/vnd.plotly.v1+json": {
       "config": {
        "plotlyServerURL": "https://plot.ly"
       },
       "data": [
        {
         "coloraxis": "coloraxis",
         "geo": "geo",
         "hovertemplate": "<b>%{hovertext}</b><br><br>region=%{location}<br>artist=%{z}<extra></extra>",
         "hovertext": [
          "Argentina",
          "Brazil",
          "Chile",
          "Colombia",
          "Mexico",
          "Peru",
          "Uruguay"
         ],
         "locationmode": "country names",
         "locations": [
          "Argentina",
          "Brazil",
          "Chile",
          "Colombia",
          "Mexico",
          "Peru",
          "Uruguay"
         ],
         "name": "",
         "type": "choropleth",
         "z": [
          28,
          24,
          14,
          26,
          19,
          21,
          16
         ]
        }
       ],
       "layout": {
        "coloraxis": {
         "colorbar": {
          "title": {
           "text": "artist"
          }
         },
         "colorscale": [
          [
           0,
           "#0d0887"
          ],
          [
           0.1111111111111111,
           "#46039f"
          ],
          [
           0.2222222222222222,
           "#7201a8"
          ],
          [
           0.3333333333333333,
           "#9c179e"
          ],
          [
           0.4444444444444444,
           "#bd3786"
          ],
          [
           0.5555555555555556,
           "#d8576b"
          ],
          [
           0.6666666666666666,
           "#ed7953"
          ],
          [
           0.7777777777777778,
           "#fb9f3a"
          ],
          [
           0.8888888888888888,
           "#fdca26"
          ],
          [
           1,
           "#f0f921"
          ]
         ]
        },
        "geo": {
         "center": {},
         "domain": {
          "x": [
           0,
           1
          ],
          "y": [
           0,
           1
          ]
         },
         "projection": {
          "type": "natural earth"
         }
        },
        "legend": {
         "tracegroupgap": 0
        },
        "template": {
         "data": {
          "bar": [
           {
            "error_x": {
             "color": "#2a3f5f"
            },
            "error_y": {
             "color": "#2a3f5f"
            },
            "marker": {
             "line": {
              "color": "#E5ECF6",
              "width": 0.5
             },
             "pattern": {
              "fillmode": "overlay",
              "size": 10,
              "solidity": 0.2
             }
            },
            "type": "bar"
           }
          ],
          "barpolar": [
           {
            "marker": {
             "line": {
              "color": "#E5ECF6",
              "width": 0.5
             },
             "pattern": {
              "fillmode": "overlay",
              "size": 10,
              "solidity": 0.2
             }
            },
            "type": "barpolar"
           }
          ],
          "carpet": [
           {
            "aaxis": {
             "endlinecolor": "#2a3f5f",
             "gridcolor": "white",
             "linecolor": "white",
             "minorgridcolor": "white",
             "startlinecolor": "#2a3f5f"
            },
            "baxis": {
             "endlinecolor": "#2a3f5f",
             "gridcolor": "white",
             "linecolor": "white",
             "minorgridcolor": "white",
             "startlinecolor": "#2a3f5f"
            },
            "type": "carpet"
           }
          ],
          "choropleth": [
           {
            "colorbar": {
             "outlinewidth": 0,
             "ticks": ""
            },
            "type": "choropleth"
           }
          ],
          "contour": [
           {
            "colorbar": {
             "outlinewidth": 0,
             "ticks": ""
            },
            "colorscale": [
             [
              0,
              "#0d0887"
             ],
             [
              0.1111111111111111,
              "#46039f"
             ],
             [
              0.2222222222222222,
              "#7201a8"
             ],
             [
              0.3333333333333333,
              "#9c179e"
             ],
             [
              0.4444444444444444,
              "#bd3786"
             ],
             [
              0.5555555555555556,
              "#d8576b"
             ],
             [
              0.6666666666666666,
              "#ed7953"
             ],
             [
              0.7777777777777778,
              "#fb9f3a"
             ],
             [
              0.8888888888888888,
              "#fdca26"
             ],
             [
              1,
              "#f0f921"
             ]
            ],
            "type": "contour"
           }
          ],
          "contourcarpet": [
           {
            "colorbar": {
             "outlinewidth": 0,
             "ticks": ""
            },
            "type": "contourcarpet"
           }
          ],
          "heatmap": [
           {
            "colorbar": {
             "outlinewidth": 0,
             "ticks": ""
            },
            "colorscale": [
             [
              0,
              "#0d0887"
             ],
             [
              0.1111111111111111,
              "#46039f"
             ],
             [
              0.2222222222222222,
              "#7201a8"
             ],
             [
              0.3333333333333333,
              "#9c179e"
             ],
             [
              0.4444444444444444,
              "#bd3786"
             ],
             [
              0.5555555555555556,
              "#d8576b"
             ],
             [
              0.6666666666666666,
              "#ed7953"
             ],
             [
              0.7777777777777778,
              "#fb9f3a"
             ],
             [
              0.8888888888888888,
              "#fdca26"
             ],
             [
              1,
              "#f0f921"
             ]
            ],
            "type": "heatmap"
           }
          ],
          "heatmapgl": [
           {
            "colorbar": {
             "outlinewidth": 0,
             "ticks": ""
            },
            "colorscale": [
             [
              0,
              "#0d0887"
             ],
             [
              0.1111111111111111,
              "#46039f"
             ],
             [
              0.2222222222222222,
              "#7201a8"
             ],
             [
              0.3333333333333333,
              "#9c179e"
             ],
             [
              0.4444444444444444,
              "#bd3786"
             ],
             [
              0.5555555555555556,
              "#d8576b"
             ],
             [
              0.6666666666666666,
              "#ed7953"
             ],
             [
              0.7777777777777778,
              "#fb9f3a"
             ],
             [
              0.8888888888888888,
              "#fdca26"
             ],
             [
              1,
              "#f0f921"
             ]
            ],
            "type": "heatmapgl"
           }
          ],
          "histogram": [
           {
            "marker": {
             "pattern": {
              "fillmode": "overlay",
              "size": 10,
              "solidity": 0.2
             }
            },
            "type": "histogram"
           }
          ],
          "histogram2d": [
           {
            "colorbar": {
             "outlinewidth": 0,
             "ticks": ""
            },
            "colorscale": [
             [
              0,
              "#0d0887"
             ],
             [
              0.1111111111111111,
              "#46039f"
             ],
             [
              0.2222222222222222,
              "#7201a8"
             ],
             [
              0.3333333333333333,
              "#9c179e"
             ],
             [
              0.4444444444444444,
              "#bd3786"
             ],
             [
              0.5555555555555556,
              "#d8576b"
             ],
             [
              0.6666666666666666,
              "#ed7953"
             ],
             [
              0.7777777777777778,
              "#fb9f3a"
             ],
             [
              0.8888888888888888,
              "#fdca26"
             ],
             [
              1,
              "#f0f921"
             ]
            ],
            "type": "histogram2d"
           }
          ],
          "histogram2dcontour": [
           {
            "colorbar": {
             "outlinewidth": 0,
             "ticks": ""
            },
            "colorscale": [
             [
              0,
              "#0d0887"
             ],
             [
              0.1111111111111111,
              "#46039f"
             ],
             [
              0.2222222222222222,
              "#7201a8"
             ],
             [
              0.3333333333333333,
              "#9c179e"
             ],
             [
              0.4444444444444444,
              "#bd3786"
             ],
             [
              0.5555555555555556,
              "#d8576b"
             ],
             [
              0.6666666666666666,
              "#ed7953"
             ],
             [
              0.7777777777777778,
              "#fb9f3a"
             ],
             [
              0.8888888888888888,
              "#fdca26"
             ],
             [
              1,
              "#f0f921"
             ]
            ],
            "type": "histogram2dcontour"
           }
          ],
          "mesh3d": [
           {
            "colorbar": {
             "outlinewidth": 0,
             "ticks": ""
            },
            "type": "mesh3d"
           }
          ],
          "parcoords": [
           {
            "line": {
             "colorbar": {
              "outlinewidth": 0,
              "ticks": ""
             }
            },
            "type": "parcoords"
           }
          ],
          "pie": [
           {
            "automargin": true,
            "type": "pie"
           }
          ],
          "scatter": [
           {
            "fillpattern": {
             "fillmode": "overlay",
             "size": 10,
             "solidity": 0.2
            },
            "type": "scatter"
           }
          ],
          "scatter3d": [
           {
            "line": {
             "colorbar": {
              "outlinewidth": 0,
              "ticks": ""
             }
            },
            "marker": {
             "colorbar": {
              "outlinewidth": 0,
              "ticks": ""
             }
            },
            "type": "scatter3d"
           }
          ],
          "scattercarpet": [
           {
            "marker": {
             "colorbar": {
              "outlinewidth": 0,
              "ticks": ""
             }
            },
            "type": "scattercarpet"
           }
          ],
          "scattergeo": [
           {
            "marker": {
             "colorbar": {
              "outlinewidth": 0,
              "ticks": ""
             }
            },
            "type": "scattergeo"
           }
          ],
          "scattergl": [
           {
            "marker": {
             "colorbar": {
              "outlinewidth": 0,
              "ticks": ""
             }
            },
            "type": "scattergl"
           }
          ],
          "scattermapbox": [
           {
            "marker": {
             "colorbar": {
              "outlinewidth": 0,
              "ticks": ""
             }
            },
            "type": "scattermapbox"
           }
          ],
          "scatterpolar": [
           {
            "marker": {
             "colorbar": {
              "outlinewidth": 0,
              "ticks": ""
             }
            },
            "type": "scatterpolar"
           }
          ],
          "scatterpolargl": [
           {
            "marker": {
             "colorbar": {
              "outlinewidth": 0,
              "ticks": ""
             }
            },
            "type": "scatterpolargl"
           }
          ],
          "scatterternary": [
           {
            "marker": {
             "colorbar": {
              "outlinewidth": 0,
              "ticks": ""
             }
            },
            "type": "scatterternary"
           }
          ],
          "surface": [
           {
            "colorbar": {
             "outlinewidth": 0,
             "ticks": ""
            },
            "colorscale": [
             [
              0,
              "#0d0887"
             ],
             [
              0.1111111111111111,
              "#46039f"
             ],
             [
              0.2222222222222222,
              "#7201a8"
             ],
             [
              0.3333333333333333,
              "#9c179e"
             ],
             [
              0.4444444444444444,
              "#bd3786"
             ],
             [
              0.5555555555555556,
              "#d8576b"
             ],
             [
              0.6666666666666666,
              "#ed7953"
             ],
             [
              0.7777777777777778,
              "#fb9f3a"
             ],
             [
              0.8888888888888888,
              "#fdca26"
             ],
             [
              1,
              "#f0f921"
             ]
            ],
            "type": "surface"
           }
          ],
          "table": [
           {
            "cells": {
             "fill": {
              "color": "#EBF0F8"
             },
             "line": {
              "color": "white"
             }
            },
            "header": {
             "fill": {
              "color": "#C8D4E3"
             },
             "line": {
              "color": "white"
             }
            },
            "type": "table"
           }
          ]
         },
         "layout": {
          "annotationdefaults": {
           "arrowcolor": "#2a3f5f",
           "arrowhead": 0,
           "arrowwidth": 1
          },
          "autotypenumbers": "strict",
          "coloraxis": {
           "colorbar": {
            "outlinewidth": 0,
            "ticks": ""
           }
          },
          "colorscale": {
           "diverging": [
            [
             0,
             "#8e0152"
            ],
            [
             0.1,
             "#c51b7d"
            ],
            [
             0.2,
             "#de77ae"
            ],
            [
             0.3,
             "#f1b6da"
            ],
            [
             0.4,
             "#fde0ef"
            ],
            [
             0.5,
             "#f7f7f7"
            ],
            [
             0.6,
             "#e6f5d0"
            ],
            [
             0.7,
             "#b8e186"
            ],
            [
             0.8,
             "#7fbc41"
            ],
            [
             0.9,
             "#4d9221"
            ],
            [
             1,
             "#276419"
            ]
           ],
           "sequential": [
            [
             0,
             "#0d0887"
            ],
            [
             0.1111111111111111,
             "#46039f"
            ],
            [
             0.2222222222222222,
             "#7201a8"
            ],
            [
             0.3333333333333333,
             "#9c179e"
            ],
            [
             0.4444444444444444,
             "#bd3786"
            ],
            [
             0.5555555555555556,
             "#d8576b"
            ],
            [
             0.6666666666666666,
             "#ed7953"
            ],
            [
             0.7777777777777778,
             "#fb9f3a"
            ],
            [
             0.8888888888888888,
             "#fdca26"
            ],
            [
             1,
             "#f0f921"
            ]
           ],
           "sequentialminus": [
            [
             0,
             "#0d0887"
            ],
            [
             0.1111111111111111,
             "#46039f"
            ],
            [
             0.2222222222222222,
             "#7201a8"
            ],
            [
             0.3333333333333333,
             "#9c179e"
            ],
            [
             0.4444444444444444,
             "#bd3786"
            ],
            [
             0.5555555555555556,
             "#d8576b"
            ],
            [
             0.6666666666666666,
             "#ed7953"
            ],
            [
             0.7777777777777778,
             "#fb9f3a"
            ],
            [
             0.8888888888888888,
             "#fdca26"
            ],
            [
             1,
             "#f0f921"
            ]
           ]
          },
          "colorway": [
           "#636efa",
           "#EF553B",
           "#00cc96",
           "#ab63fa",
           "#FFA15A",
           "#19d3f3",
           "#FF6692",
           "#B6E880",
           "#FF97FF",
           "#FECB52"
          ],
          "font": {
           "color": "#2a3f5f"
          },
          "geo": {
           "bgcolor": "white",
           "lakecolor": "white",
           "landcolor": "#E5ECF6",
           "showlakes": true,
           "showland": true,
           "subunitcolor": "white"
          },
          "hoverlabel": {
           "align": "left"
          },
          "hovermode": "closest",
          "mapbox": {
           "style": "light"
          },
          "paper_bgcolor": "white",
          "plot_bgcolor": "#E5ECF6",
          "polar": {
           "angularaxis": {
            "gridcolor": "white",
            "linecolor": "white",
            "ticks": ""
           },
           "bgcolor": "#E5ECF6",
           "radialaxis": {
            "gridcolor": "white",
            "linecolor": "white",
            "ticks": ""
           }
          },
          "scene": {
           "xaxis": {
            "backgroundcolor": "#E5ECF6",
            "gridcolor": "white",
            "gridwidth": 2,
            "linecolor": "white",
            "showbackground": true,
            "ticks": "",
            "zerolinecolor": "white"
           },
           "yaxis": {
            "backgroundcolor": "#E5ECF6",
            "gridcolor": "white",
            "gridwidth": 2,
            "linecolor": "white",
            "showbackground": true,
            "ticks": "",
            "zerolinecolor": "white"
           },
           "zaxis": {
            "backgroundcolor": "#E5ECF6",
            "gridcolor": "white",
            "gridwidth": 2,
            "linecolor": "white",
            "showbackground": true,
            "ticks": "",
            "zerolinecolor": "white"
           }
          },
          "shapedefaults": {
           "line": {
            "color": "#2a3f5f"
           }
          },
          "ternary": {
           "aaxis": {
            "gridcolor": "white",
            "linecolor": "white",
            "ticks": ""
           },
           "baxis": {
            "gridcolor": "white",
            "linecolor": "white",
            "ticks": ""
           },
           "bgcolor": "#E5ECF6",
           "caxis": {
            "gridcolor": "white",
            "linecolor": "white",
            "ticks": ""
           }
          },
          "title": {
           "x": 0.05
          },
          "xaxis": {
           "automargin": true,
           "gridcolor": "white",
           "linecolor": "white",
           "ticks": "",
           "title": {
            "standoff": 15
           },
           "zerolinecolor": "white",
           "zerolinewidth": 2
          },
          "yaxis": {
           "automargin": true,
           "gridcolor": "white",
           "linecolor": "white",
           "ticks": "",
           "title": {
            "standoff": 15
           },
           "zerolinecolor": "white",
           "zerolinewidth": 2
          }
         }
        },
        "title": {
         "text": "Diversidad de artistas en LATAM"
        }
       }
      }
     },
     "metadata": {},
     "output_type": "display_data"
    }
   ],
   "source": [
    "latam_countries = ['Argentina', 'Brazil', 'Chile', 'Colombia', 'Mexico', 'Peru', 'Uruguay']\n",
    "latam_unique_artists_df = spotify_df[spotify_df['region'].isin(latam_countries)].groupby('region')['artist'].nunique().reset_index()\n",
    "\n",
    "fig_choropleth = px.choropleth(latam_unique_artists_df,\n",
    "                               locations=\"region\",\n",
    "                               locationmode=\"country names\",\n",
    "                               color=\"artist\",\n",
    "                               hover_name=\"region\",\n",
    "                               title=\"Diversidad de artistas en LATAM\",\n",
    "                               projection=\"natural earth\")\n",
    "\n",
    "fig_choropleth.show()"
   ]
  },
  {
   "cell_type": "code",
   "execution_count": null,
   "metadata": {},
   "outputs": [],
   "source": []
  }
 ],
 "metadata": {
  "kernelspec": {
   "display_name": "Python 3",
   "language": "python",
   "name": "python3"
  },
  "language_info": {
   "codemirror_mode": {
    "name": "ipython",
    "version": 3
   },
   "file_extension": ".py",
   "mimetype": "text/x-python",
   "name": "python",
   "nbconvert_exporter": "python",
   "pygments_lexer": "ipython3",
   "version": "3.11.9"
  }
 },
 "nbformat": 4,
 "nbformat_minor": 2
}
