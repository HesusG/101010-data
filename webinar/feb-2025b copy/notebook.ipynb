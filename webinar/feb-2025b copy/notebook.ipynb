{
 "cells": [
  {
   "cell_type": "markdown",
   "metadata": {},
   "source": [
    "# 🎬 Análisis de Datos con SQL y Sakila 🚀  \n",
    "\n",
    "## ¡Bienvenidos al mundo del análisis de datos con SQL! 🧐📊  \n",
    "\n",
    "En este notebook, exploraremos la base de datos **Sakila**, una base de datos de ejemplo utilizada para gestionar un sistema de alquiler de películas. Aprenderemos cómo **consultar, analizar y visualizar datos** utilizando **SQL** y algunas herramientas de análisis en Python. ¡Verás lo poderoso que es SQL para extraer información clave de cualquier negocio! 🎥💻  \n",
    "\n",
    "## 🛠 Tecnologías que usaremos  \n",
    "\n",
    "🔹 **SQLite** → Base de datos relacional ligera y fácil de usar.  \n",
    "🔹 **Pandas** → Manipulación y análisis de datos en Python.  \n",
    "🔹 **Plotly** → Visualizaciones interactivas para contar historias con datos.  \n",
    "\n",
    "## 📡 Conectándonos a la Base de Datos  \n",
    "\n",
    "Usaremos **SQLite** para conectarnos a la base de datos **Sakila**, un conjunto de datos diseñado especialmente para aprender sobre bases de datos y consultas SQL.  \n",
    " \n",
    "\n",
    "## 📈 Visualización de Datos  \n",
    "\n",
    "Nada como un buen gráfico para entender tendencias 📊. Usaremos **Plotly** para crear visualizaciones que nos ayuden a interpretar los datos de manera rápida y efectiva.  \n",
    "\n",
    "---\n",
    "\n",
    "🎯 **SQL es una de las habilidades más poderosas en el mundo de los datos.** Acompáñanos en este análisis y descubre cómo utilizar SQL para obtener información valiosa de una base de datos. ¡Manos a la obra! 🚀💡  \n"
   ]
  },
  {
   "cell_type": "markdown",
   "metadata": {},
   "source": [
    "# Qué es SQL!?"
   ]
  },
  {
   "cell_type": "markdown",
   "metadata": {},
   "source": [
    "\n",
    "SQL (**Structured Query Language**) es el lenguaje que nos permite hablar con las bases de datos 📊.  \n",
    "Imagina que una base de datos es como una **gran biblioteca** 📚, y cada tabla dentro de ella es como una estantería con libros 📖.  \n",
    "\n",
    "Con **SQL**, podemos hacer preguntas a la base de datos y obtener respuestas. ¡Veamos cómo! 🚀  "
   ]
  },
  {
   "cell_type": "code",
   "execution_count": 1,
   "metadata": {},
   "outputs": [],
   "source": [
    "import sqlite3\n",
    "import pandas as pd"
   ]
  },
  {
   "cell_type": "markdown",
   "metadata": {},
   "source": [
    "![biblioteca](./images/biblioteca.jpg)"
   ]
  },
  {
   "cell_type": "markdown",
   "metadata": {},
   "source": [
    "![biblioteca](./images/bases-excel.jpg)"
   ]
  },
  {
   "cell_type": "markdown",
   "metadata": {},
   "source": [
    "![biblioteca](./images/datacenter.jpg)"
   ]
  },
  {
   "cell_type": "markdown",
   "metadata": {},
   "source": [
    "![biblioteca](./images/spotify.jpg)"
   ]
  },
  {
   "cell_type": "code",
   "execution_count": 3,
   "metadata": {},
   "outputs": [],
   "source": [
    "import sqlite3\n",
    "import pandas as pd\n",
    "\n",
    "def conectar_bd():\n",
    "    \"\"\"Establece conexión con la base de datos SQLite Sakila y devuelve el cursor y la conexión.\"\"\"\n",
    "    db_path = \"/Users/d3r/Documents/Github/101010-data/webinar/feb-2025b/data/sakila_master.db\"\n",
    "    conn = sqlite3.connect(db_path)\n",
    "    return conn, conn.cursor()\n",
    "\n",
    "def ejecutar_consulta(query):\n",
    "    \"\"\"\n",
    "    Recibe una consulta SQL en forma de texto, la ejecuta y muestra el resultado en un DataFrame.\n",
    "    \"\"\"\n",
    "    conn, cursor = conectar_bd()\n",
    "    cursor.execute(query)\n",
    "    data = cursor.fetchall()\n",
    "    \n",
    "    # Obtener los nombres de las columnas\n",
    "    columnas = [desc[0] for desc in cursor.description]\n",
    "    \n",
    "    # Convertir a DataFrame y mostrar\n",
    "    df = pd.DataFrame(data, columns=columnas)\n",
    "    display(df)\n",
    "    \n",
    "    # Cerrar conexión\n",
    "    conn.close()\n"
   ]
  },
  {
   "cell_type": "markdown",
   "metadata": {},
   "source": [
    "### 🔍 1. Nuestra primera consulta: `SELECT *`  \n",
    "Si quieres ver **todos los libros** de una estantería en la biblioteca, solo tienes que pedirle al bibliotecario:  \n",
    "\n",
    "*\"Muéstrame todos los libros que tienes\"* 📖  \n",
    "\n",
    "En SQL, esto se traduce a:  \n",
    "\n",
    "```sql\n",
    "SELECT * FROM estanteria;"
   ]
  },
  {
   "cell_type": "code",
   "execution_count": 4,
   "metadata": {},
   "outputs": [
    {
     "ename": "OperationalError",
     "evalue": "unable to open database file",
     "output_type": "error",
     "traceback": [
      "\u001b[1;31m---------------------------------------------------------------------------\u001b[0m",
      "\u001b[1;31mOperationalError\u001b[0m                          Traceback (most recent call last)",
      "Cell \u001b[1;32mIn[4], line 2\u001b[0m\n\u001b[0;32m      1\u001b[0m query \u001b[38;5;241m=\u001b[39m \u001b[38;5;124m\"\u001b[39m\u001b[38;5;124mSELECT * FROM film LIMIT 5;\u001b[39m\u001b[38;5;124m\"\u001b[39m\n\u001b[1;32m----> 2\u001b[0m \u001b[43mejecutar_consulta\u001b[49m\u001b[43m(\u001b[49m\u001b[43mquery\u001b[49m\u001b[43m)\u001b[49m\n",
      "Cell \u001b[1;32mIn[3], line 14\u001b[0m, in \u001b[0;36mejecutar_consulta\u001b[1;34m(query)\u001b[0m\n\u001b[0;32m     10\u001b[0m \u001b[38;5;28;01mdef\u001b[39;00m \u001b[38;5;21mejecutar_consulta\u001b[39m(query):\n\u001b[0;32m     11\u001b[0m \u001b[38;5;250m    \u001b[39m\u001b[38;5;124;03m\"\"\"\u001b[39;00m\n\u001b[0;32m     12\u001b[0m \u001b[38;5;124;03m    Recibe una consulta SQL en forma de texto, la ejecuta y muestra el resultado en un DataFrame.\u001b[39;00m\n\u001b[0;32m     13\u001b[0m \u001b[38;5;124;03m    \"\"\"\u001b[39;00m\n\u001b[1;32m---> 14\u001b[0m     conn, cursor \u001b[38;5;241m=\u001b[39m \u001b[43mconectar_bd\u001b[49m\u001b[43m(\u001b[49m\u001b[43m)\u001b[49m\n\u001b[0;32m     15\u001b[0m     cursor\u001b[38;5;241m.\u001b[39mexecute(query)\n\u001b[0;32m     16\u001b[0m     data \u001b[38;5;241m=\u001b[39m cursor\u001b[38;5;241m.\u001b[39mfetchall()\n",
      "Cell \u001b[1;32mIn[3], line 7\u001b[0m, in \u001b[0;36mconectar_bd\u001b[1;34m()\u001b[0m\n\u001b[0;32m      5\u001b[0m \u001b[38;5;250m\u001b[39m\u001b[38;5;124;03m\"\"\"Establece conexión con la base de datos SQLite Sakila y devuelve el cursor y la conexión.\"\"\"\u001b[39;00m\n\u001b[0;32m      6\u001b[0m db_path \u001b[38;5;241m=\u001b[39m \u001b[38;5;124m\"\u001b[39m\u001b[38;5;124m/Users/d3r/Documents/Github/101010-data/webinar/feb-2025b/data/sakila_master.db\u001b[39m\u001b[38;5;124m\"\u001b[39m\n\u001b[1;32m----> 7\u001b[0m conn \u001b[38;5;241m=\u001b[39m \u001b[43msqlite3\u001b[49m\u001b[38;5;241;43m.\u001b[39;49m\u001b[43mconnect\u001b[49m\u001b[43m(\u001b[49m\u001b[43mdb_path\u001b[49m\u001b[43m)\u001b[49m\n\u001b[0;32m      8\u001b[0m \u001b[38;5;28;01mreturn\u001b[39;00m conn, conn\u001b[38;5;241m.\u001b[39mcursor()\n",
      "\u001b[1;31mOperationalError\u001b[0m: unable to open database file"
     ]
    }
   ],
   "source": [
    "query = \"SELECT * FROM film LIMIT 5;\"\n",
    "ejecutar_consulta(query)"
   ]
  },
  {
   "cell_type": "markdown",
   "metadata": {},
   "source": [
    "🎯 2. Filtrando información con SELECT FROM WHERE\n",
    "\n",
    "Ahora, si queremos solo las películas con duración mayor a 120 minutos, usamos WHERE:"
   ]
  },
  {
   "cell_type": "code",
   "execution_count": null,
   "metadata": {},
   "outputs": [],
   "source": [
    "query = \"SELECT title, length FROM film WHERE length > 120 LIMIT 5;\"\n",
    "ejecutar_consulta(query)\n"
   ]
  },
  {
   "cell_type": "markdown",
   "metadata": {},
   "source": [
    "🎬 3. Ordenando los resultados con ORDER BY\n",
    "\n",
    "Si queremos ver las películas más largas primero, agregamos ORDER BY:"
   ]
  },
  {
   "cell_type": "code",
   "execution_count": null,
   "metadata": {},
   "outputs": [],
   "source": [
    "query = \"SELECT title, length FROM film ORDER BY length DESC LIMIT 5;\"\n",
    "ejecutar_consulta(query)\n"
   ]
  },
  {
   "cell_type": "markdown",
   "metadata": {},
   "source": [
    "🏆 4. Contando registros con COUNT\n",
    "\n",
    "Si queremos saber cuántas películas duran más de 120 minutos, usamos COUNT:"
   ]
  },
  {
   "cell_type": "code",
   "execution_count": null,
   "metadata": {},
   "outputs": [],
   "source": [
    "query = \"SELECT COUNT(title) as conteo FROM film WHERE length > 120;\"\n",
    "ejecutar_consulta(query)\n"
   ]
  },
  {
   "cell_type": "markdown",
   "metadata": {},
   "source": [
    "# Cómo se ve nuestra base de datos ? "
   ]
  },
  {
   "cell_type": "markdown",
   "metadata": {},
   "source": [
    "![biblioteca](./images/sakila.png)"
   ]
  },
  {
   "cell_type": "markdown",
   "metadata": {},
   "source": [
    "¿Qué es una base de datos y en qué se diferencia de Excel?\n",
    "Imagina que tienes una libreta (Excel) donde anotas listas de cosas, como nombres de clientes o productos. Funciona bien, pero cuando crece mucho, buscar, actualizar o conectar información se vuelve complicado.\n",
    "\n",
    "Una base de datos es como un sistema más inteligente y estructurado que te permite almacenar, organizar y conectar datos de manera eficiente."
   ]
  },
  {
   "cell_type": "markdown",
   "metadata": {},
   "source": [
    "### 🔥 **¿Cómo es diferente de Excel?**  \n",
    "\n",
    "✅ **Relaciones** 🔗  \n",
    "📊 En **Excel**, cada hoja es independiente y debes conectar datos **a mano**.  \n",
    "🛠️ En una **base de datos**, todo se **conecta solo**. Por ejemplo, puedes saber **qué cliente hizo qué pedido** sin repetir info.  \n",
    "\n",
    "✅ **Tipos de datos** 🔢  \n",
    "✏️ En **Excel**, puedes escribir lo que sea en cualquier celda (y cometer errores 😵).  \n",
    "📌 En una **base de datos**, cada columna tiene un **tipo de dato fijo** (números, texto, fechas) para evitar problemas.  \n",
    "\n",
    "✅ **Restricciones (Constraints)** 🚫  \n",
    "😬 En **Excel**, puedes meter valores incorrectos sin darte cuenta.  \n",
    "🛡️ En una **base de datos**, puedes poner reglas, como que un precio **no sea negativo** o que un correo **no se repita**.  \n",
    "\n",
    "✅ **Clave primaria (Primary Key)** 🔑  \n",
    "📂 En **Excel**, puedes tener filas repetidas y perder el control.  \n",
    "🆔 En una **base de datos**, cada fila tiene un **ID único**, asegurando que **nada se duplique** y todo esté bien organizado.  \n",
    "\n",
    "🚀 **Base de datos = Más orden, más control y menos errores.** 🔥"
   ]
  },
  {
   "cell_type": "markdown",
   "metadata": {},
   "source": [
    "```sql\n",
    "CREATE TABLE customer (\n",
    "    customer_id INT PRIMARY KEY,             -- 🔑 Clave primaria\n",
    "    first_name VARCHAR(45) NOT NULL,         -- 🔤 Texto obligatorio\n",
    "    last_name VARCHAR(45) NOT NULL,          -- 🔤 Texto obligatorio\n",
    "    email VARCHAR(50) UNIQUE,                -- 📧 Debe ser único\n",
    "    active BOOLEAN DEFAULT TRUE,             -- ✅ Estado con valor por defecto\n",
    "    create_date TIMESTAMP DEFAULT CURRENT_TIMESTAMP -- ⏳ Fecha automática\n",
    ");\n",
    "\n",
    "CREATE TABLE rental (\n",
    "    rental_id INT PRIMARY KEY,               -- 🔑 Clave primaria\n",
    "    rental_date TIMESTAMP NOT NULL,          -- ⏳ Fecha de renta\n",
    "    customer_id INT,                          -- 🔗 Relación con customer\n",
    "    CONSTRAINT fk_rental_customer FOREIGN KEY (customer_id) REFERENCES customer(customer_id) \n",
    "        ON DELETE CASCADE                     -- 🔗 Si un cliente se borra, sus rentas también\n",
    ");\n",
    "\n",
    "CREATE TABLE film (\n",
    "    film_id INT PRIMARY KEY,                  -- 🔑 Clave primaria\n",
    "    title VARCHAR(255) NOT NULL,              -- 🎬 Nombre de la película\n",
    "    release_year INT CHECK (release_year > 1900),  -- 🎞️ Año válido (> 1900)\n",
    "    rental_rate DECIMAL(5,2) NOT NULL CHECK (rental_rate >= 0), -- 💲 Precio mínimo 0\n",
    "    length INT CHECK (length > 0),            -- ⏳ Duración positiva\n",
    "    rating VARCHAR(10) CHECK (rating IN ('G', 'PG', 'PG-13', 'R', 'NC-17')) -- 🎭 Solo valores válidos\n",
    ");\n",
    "\n",
    "CREATE TABLE inventory (\n",
    "    inventory_id INT PRIMARY KEY,             -- 🔑 Clave primaria\n",
    "    film_id INT,                              -- 🔗 Relación con film\n",
    "    CONSTRAINT fk_inventory_film FOREIGN KEY (film_id) REFERENCES film(film_id) \n",
    "        ON DELETE CASCADE                      -- 🔗 Si una película se borra, su inventario también\n",
    ");\n",
    "```\n"
   ]
  },
  {
   "cell_type": "markdown",
   "metadata": {},
   "source": [
    "# Gráficos"
   ]
  },
  {
   "cell_type": "code",
   "execution_count": null,
   "metadata": {},
   "outputs": [],
   "source": [
    "import plotly.express as px\n",
    "\n",
    "\n",
    "# 📊 Función para ejecutar consultas y graficar resultados en Plotly\n",
    "def graficar_consulta(query, x_col, y_col, titulo=\"Gráfico de Datos\", x_label=\"\", y_label=\"\"):\n",
    "    \"\"\"\n",
    "    Ejecuta una consulta SQL, muestra los resultados en un DataFrame y genera un gráfico de barras 16:9 con Plotly.\n",
    "    \n",
    "    Parámetros:\n",
    "    - query (str): Consulta SQL a ejecutar.\n",
    "    - x_col (str): Nombre de la columna a usar en el eje X.\n",
    "    - y_col (str): Nombre de la columna a usar en el eje Y.\n",
    "    - titulo (str): Título del gráfico (opcional).\n",
    "    - x_label (str): Etiqueta del eje X (opcional).\n",
    "    - y_label (str): Etiqueta del eje Y (opcional).\n",
    "    \"\"\"\n",
    "    conn, cursor = conectar_bd()\n",
    "    cursor.execute(query)\n",
    "    data = cursor.fetchall()\n",
    "    columnas = [desc[0] for desc in cursor.description]\n",
    "    df = pd.DataFrame(data, columns=columnas)\n",
    "    \n",
    "    # Mostrar la tabla\n",
    "    display(df)\n",
    "    \n",
    "    # Crear gráfico de barras 16:9 con Plotly\n",
    "    fig = px.bar(df, x=x_col, y=y_col, title=titulo, labels={x_col: x_label, y_col: y_label})\n",
    "    fig.update_layout(width=1280, height=720)  # Formato 16:9\n",
    "    fig.show()\n",
    "    \n",
    "    # Cerrar conexión\n",
    "    conn.close()"
   ]
  },
  {
   "cell_type": "code",
   "execution_count": null,
   "metadata": {},
   "outputs": [],
   "source": [
    "query = \"\"\"\n",
    "SELECT film.title, COUNT(rental.rental_id) AS rental_count\n",
    "FROM rental\n",
    "JOIN inventory ON rental.inventory_id = inventory.inventory_id\n",
    "JOIN film ON inventory.film_id = film.film_id\n",
    "GROUP BY film.title\n",
    "ORDER BY rental_count DESC\n",
    "LIMIT 5;\n",
    "\"\"\"\n",
    "\n",
    "graficar_consulta(query, x_col=\"title\", y_col=\"rental_count\", titulo=\"🎞️ Top 5 Películas Más Alquiladas\", x_label=\"Película\", y_label=\"Cantidad de Rentas\")\n"
   ]
  },
  {
   "cell_type": "markdown",
   "metadata": {},
   "source": [
    "# Quién usa SQL ? "
   ]
  },
  {
   "cell_type": "markdown",
   "metadata": {},
   "source": [
    "https://db-engines.com/en/ranking"
   ]
  },
  {
   "cell_type": "markdown",
   "metadata": {},
   "source": [
    "![Python Logo](./images/top-db1.png)"
   ]
  },
  {
   "cell_type": "markdown",
   "metadata": {},
   "source": [
    "![Python Logo](./images/top-db.png)"
   ]
  },
  {
   "cell_type": "markdown",
   "metadata": {},
   "source": []
  }
 ],
 "metadata": {
  "kernelspec": {
   "display_name": "Python 3",
   "language": "python",
   "name": "python3"
  },
  "language_info": {
   "codemirror_mode": {
    "name": "ipython",
    "version": 3
   },
   "file_extension": ".py",
   "mimetype": "text/x-python",
   "name": "python",
   "nbconvert_exporter": "python",
   "pygments_lexer": "ipython3",
   "version": "3.11.9"
  }
 },
 "nbformat": 4,
 "nbformat_minor": 2
}
